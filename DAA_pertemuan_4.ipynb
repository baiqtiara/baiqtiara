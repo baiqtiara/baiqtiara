{
  "nbformat": 4,
  "nbformat_minor": 0,
  "metadata": {
    "colab": {
      "provenance": [],
      "include_colab_link": true
    },
    "kernelspec": {
      "name": "python3",
      "display_name": "Python 3"
    },
    "language_info": {
      "name": "python"
    }
  },
  "cells": [
    {
      "cell_type": "markdown",
      "metadata": {
        "id": "view-in-github",
        "colab_type": "text"
      },
      "source": [
        "<a href=\"https://colab.research.google.com/github/baiqtiara/baiqtiara/blob/main/DAA_pertemuan_4.ipynb\" target=\"_parent\"><img src=\"https://colab.research.google.com/assets/colab-badge.svg\" alt=\"Open In Colab\"/></a>"
      ]
    },
    {
      "cell_type": "markdown",
      "source": [
        "Arellia Agustin (2022071060)"
      ],
      "metadata": {
        "id": "L_TrgXextbes"
      }
    },
    {
      "cell_type": "code",
      "execution_count": null,
      "metadata": {
        "colab": {
          "base_uri": "https://localhost:8080/"
        },
        "id": "gwaZUCGVkjS4",
        "outputId": "ad275315-0d01-4f95-8c4c-d7e38298f309"
      },
      "outputs": [
        {
          "output_type": "stream",
          "name": "stdout",
          "text": [
            "2 1\n"
          ]
        }
      ],
      "source": [
        "#Sorting\n",
        "#Swap\n",
        "#swap fuunction\n",
        "var1 = 1\n",
        "var2 = 2\n",
        "var1,var2 = var2,var1\n",
        "\n",
        "print(var1,var2)"
      ]
    },
    {
      "cell_type": "code",
      "source": [
        "#Latihan\n",
        "#Buat fungsi swap dengan menambahkan variabel ketiga bernama var3!\n",
        "#swap fuunction\n",
        "var1 = 1\n",
        "var2 = 2\n",
        "var3 = 3\n",
        "var1,var2,var3 = var3,var2,var1\n",
        "\n",
        "print(var1,var2,var3)"
      ],
      "metadata": {
        "colab": {
          "base_uri": "https://localhost:8080/"
        },
        "id": "O0vsH5mplcGn",
        "outputId": "c39104e0-a797-4f84-cf04-ea29f21640b1"
      },
      "execution_count": null,
      "outputs": [
        {
          "output_type": "stream",
          "name": "stdout",
          "text": [
            "3 2 1\n"
          ]
        }
      ]
    },
    {
      "cell_type": "code",
      "source": [
        "#Bubble Sort\n",
        "list = [10,2,3,6,5,1,4]\n",
        "#proses penukaran bubble sort\n",
        "lastElementIndex = len(list)-1\n",
        "print(0,list)\n",
        "for idx in range(lastElementIndex):\n",
        "                if list[idx]>list[idx+1]:\n",
        "                    list[idx],list[idx+1]=list[idx+1],list[idx]\n",
        "                print(idx+1,list)"
      ],
      "metadata": {
        "colab": {
          "base_uri": "https://localhost:8080/"
        },
        "id": "cAoA9vvolj8V",
        "outputId": "a528b811-f6e8-49a8-c35a-13789dfdd817"
      },
      "execution_count": null,
      "outputs": [
        {
          "output_type": "stream",
          "name": "stdout",
          "text": [
            "0 [10, 2, 3, 6, 5, 1, 4]\n",
            "1 [2, 10, 3, 6, 5, 1, 4]\n",
            "2 [2, 3, 10, 6, 5, 1, 4]\n",
            "3 [2, 3, 6, 10, 5, 1, 4]\n",
            "4 [2, 3, 6, 5, 10, 1, 4]\n",
            "5 [2, 3, 6, 5, 1, 10, 4]\n",
            "6 [2, 3, 6, 5, 1, 4, 10]\n"
          ]
        }
      ]
    },
    {
      "cell_type": "code",
      "source": [
        "#Bubble sort\n",
        "def BubbleSort(list):\n",
        "#excahnge the elements to arrange in order\n",
        "  lastElementIndex = len(list)-1\n",
        "  for passNo in range(lastElementIndex,0,-1):\n",
        "    for idx in range(passNo):\n",
        "      if list[idx]>list[idx+1]:\n",
        "        list[idx],list[idx+1]=list[idx+1],list[idx]\n",
        "  return list"
      ],
      "metadata": {
        "id": "RFdj0ab_nDgo"
      },
      "execution_count": null,
      "outputs": []
    },
    {
      "cell_type": "code",
      "source": [
        "list"
      ],
      "metadata": {
        "colab": {
          "base_uri": "https://localhost:8080/"
        },
        "id": "zazic5u7oDKB",
        "outputId": "7da67cfd-bd9e-43a0-c838-4841f5adfb09"
      },
      "execution_count": null,
      "outputs": [
        {
          "output_type": "execute_result",
          "data": {
            "text/plain": [
              "[1, 2, 3, 4, 5, 6, 10]"
            ]
          },
          "metadata": {},
          "execution_count": 23
        }
      ]
    },
    {
      "cell_type": "code",
      "source": [
        "#Bubble sort\n",
        "def BubbleSort(list):\n",
        "#excahnge the elements to arrange in order\n",
        "  lastElementIndex = len(list)-1\n",
        "  for passNo in range(lastElementIndex,0,-1):\n",
        "    for idx in range(passNo):\n",
        "      if list[idx]>list[idx+1]:\n",
        "        list[idx],list[idx+1]=list[idx+1],list[idx]\n",
        "  return list\n",
        "#masukkan angka dengan urutan lainnya\n",
        "list = [10,2,3,6,5,1,4]\n",
        "\n",
        "BubbleSort(list)"
      ],
      "metadata": {
        "colab": {
          "base_uri": "https://localhost:8080/"
        },
        "id": "p3gm--XvoHr_",
        "outputId": "d2450d97-f302-44d1-8aff-702d56e09121"
      },
      "execution_count": null,
      "outputs": [
        {
          "output_type": "execute_result",
          "data": {
            "text/plain": [
              "[1, 2, 3, 4, 5, 6, 10]"
            ]
          },
          "metadata": {},
          "execution_count": 22
        }
      ]
    },
    {
      "cell_type": "code",
      "source": [
        "list"
      ],
      "metadata": {
        "colab": {
          "base_uri": "https://localhost:8080/"
        },
        "id": "Qt6VMzEPpbcG",
        "outputId": "72818037-0a3a-4dcd-bd8b-da0c810b755d"
      },
      "execution_count": null,
      "outputs": [
        {
          "output_type": "execute_result",
          "data": {
            "text/plain": [
              "[1, 2, 3, 4, 5, 6, 10]"
            ]
          },
          "metadata": {},
          "execution_count": 24
        }
      ]
    },
    {
      "cell_type": "code",
      "source": [
        "#latihan slide 10\n",
        "#kasis : Bubble Sort\n",
        "#Problem : Urutkan deret bilangan di bawah ini menggunakan metode sorting bubble sort!\n",
        "# 100  20  60  90  40  30  10\n",
        "#Bubble Sort\n",
        "list = [100,20,60,90,40,30,10]\n",
        "#proses penukaran bubble sort\n",
        "lastElementIndex = len(list)-1\n",
        "print(0,list)\n",
        "for idx in range(lastElementIndex):\n",
        "    if list[idx]>list[idx+1]:\n",
        "        list[idx],list[idx+1]=list[idx+1],list[idx]\n",
        "    print(idx+1,list)"
      ],
      "metadata": {
        "colab": {
          "base_uri": "https://localhost:8080/"
        },
        "id": "P5yl9oKvpgkP",
        "outputId": "fb9cae41-17c9-4f23-e7d4-95c2cedf56d4"
      },
      "execution_count": null,
      "outputs": [
        {
          "output_type": "stream",
          "name": "stdout",
          "text": [
            "0 [100, 20, 60, 90, 40, 30, 10]\n",
            "1 [20, 100, 60, 90, 40, 30, 10]\n",
            "2 [20, 60, 100, 90, 40, 30, 10]\n",
            "3 [20, 60, 90, 100, 40, 30, 10]\n",
            "4 [20, 60, 90, 40, 100, 30, 10]\n",
            "5 [20, 60, 90, 40, 30, 100, 10]\n",
            "6 [20, 60, 90, 40, 30, 10, 100]\n"
          ]
        }
      ]
    },
    {
      "cell_type": "code",
      "source": [
        "#Insertion Sort\n",
        "def InsertionSort(list):\n",
        "    for i in range(1,len(list)):\n",
        "        j = i-1\n",
        "        next = list[i]\n",
        "#compare the current element with next one\n",
        "\n",
        "        while (list[j] > next) and (j >= 0):\n",
        "            list[j+1] = list[j]\n",
        "            j = j-1\n",
        "        list[j+1] = next\n",
        "    return list\n",
        "#masukkan angka dengan urutan lainnya\n",
        "list = [5,2,6,4,1,7,3]\n",
        "list"
      ],
      "metadata": {
        "colab": {
          "base_uri": "https://localhost:8080/"
        },
        "id": "A5jxHhcBqdfU",
        "outputId": "afcf8b95-5ab7-45cc-959b-d8bf926d01e4"
      },
      "execution_count": null,
      "outputs": [
        {
          "output_type": "execute_result",
          "data": {
            "text/plain": [
              "[5, 2, 6, 4, 1, 7, 3]"
            ]
          },
          "metadata": {},
          "execution_count": 31
        }
      ]
    },
    {
      "cell_type": "code",
      "source": [
        "InsertionSort(list)"
      ],
      "metadata": {
        "colab": {
          "base_uri": "https://localhost:8080/"
        },
        "id": "l5R1aRUJrnZB",
        "outputId": "2c56f642-d67c-4485-a76e-8dabb4ed978d"
      },
      "execution_count": null,
      "outputs": [
        {
          "output_type": "execute_result",
          "data": {
            "text/plain": [
              "[1, 2, 3, 4, 5, 6, 7]"
            ]
          },
          "metadata": {},
          "execution_count": 32
        }
      ]
    },
    {
      "cell_type": "code",
      "source": [
        "list"
      ],
      "metadata": {
        "colab": {
          "base_uri": "https://localhost:8080/"
        },
        "id": "fgcOFrFAr5nl",
        "outputId": "5a075d1c-36a2-40f6-cdd7-4b81dbad2c8a"
      },
      "execution_count": null,
      "outputs": [
        {
          "output_type": "execute_result",
          "data": {
            "text/plain": [
              "[1, 2, 3, 4, 5, 6, 7]"
            ]
          },
          "metadata": {},
          "execution_count": 33
        }
      ]
    },
    {
      "cell_type": "code",
      "source": [
        "list = [25,26,22,24,27,23,21]"
      ],
      "metadata": {
        "id": "957x8behsEd0"
      },
      "execution_count": null,
      "outputs": []
    },
    {
      "cell_type": "code",
      "source": [
        "InsertionSort(list)\n",
        "print(list)"
      ],
      "metadata": {
        "colab": {
          "base_uri": "https://localhost:8080/"
        },
        "id": "CBXKxcgisPd-",
        "outputId": "825d018b-06f6-4418-de40-547cca70280e"
      },
      "execution_count": null,
      "outputs": [
        {
          "output_type": "stream",
          "name": "stdout",
          "text": [
            "[21, 22, 23, 24, 25, 26, 27]\n"
          ]
        }
      ]
    },
    {
      "cell_type": "code",
      "source": [
        "#latihan slide 13\n",
        "#Urutkan deret bilangan di bawah ini menggunakan metode sorting insertion sort!\n",
        "#89  12  57  16  25  11  75\n",
        "\n",
        "listInsert = [89,12,57,16,25,11,75]\n",
        "for i in range(1,len(listInsert)):\n",
        "        j = i-1\n",
        "        next = listInsert[i]\n",
        "        while (listInsert[j] > next) and (j >= 0):\n",
        "              listInsert[j+1] = listInsert[j]\n",
        "              j = j-1\n",
        "        listInsert[j+1] = next\n",
        "print(listInsert)\n"
      ],
      "metadata": {
        "colab": {
          "base_uri": "https://localhost:8080/"
        },
        "id": "g6HCLCUhsWDo",
        "outputId": "2f624f3d-091f-4a8e-e382-e8e092fb5aa1"
      },
      "execution_count": null,
      "outputs": [
        {
          "output_type": "stream",
          "name": "stdout",
          "text": [
            "[11, 12, 16, 25, 57, 75, 89]\n"
          ]
        }
      ]
    },
    {
      "cell_type": "code",
      "source": [
        "#Selection Short\n",
        "def SelectionSort(list):\n",
        "  for fill_slot in range(len(list) - 1, 0,-1):\n",
        "    max_index = 0\n",
        "    for location in range(1, fill_slot +1):\n",
        "      if list[location] > list[max_index]:\n",
        "        max_index = location\n",
        "    list[fill_slot],list[max_index] = list[max_index],list[fill_slot]\n",
        "  return list"
      ],
      "metadata": {
        "id": "wWJtLoosubQx"
      },
      "execution_count": null,
      "outputs": []
    },
    {
      "cell_type": "code",
      "source": [
        "list = [70,15,25,19,34,44]\n",
        "SelectionSort(list)"
      ],
      "metadata": {
        "colab": {
          "base_uri": "https://localhost:8080/"
        },
        "id": "8PcLZfEYvlUK",
        "outputId": "acb6a605-73fa-4407-f048-bdfe6bcefe5a"
      },
      "execution_count": null,
      "outputs": [
        {
          "output_type": "execute_result",
          "data": {
            "text/plain": [
              "[15, 19, 25, 34, 44, 70]"
            ]
          },
          "metadata": {},
          "execution_count": 56
        }
      ]
    },
    {
      "cell_type": "code",
      "source": [
        "list = [70,15,25,19,34,44]\n",
        "SelectionSort(list)\n",
        "print(list)"
      ],
      "metadata": {
        "colab": {
          "base_uri": "https://localhost:8080/"
        },
        "id": "KRv3G9tgwCIA",
        "outputId": "1d1d8947-9e8a-4966-eb98-0f6833d5ca47"
      },
      "execution_count": null,
      "outputs": [
        {
          "output_type": "stream",
          "name": "stdout",
          "text": [
            "[15, 19, 25, 34, 44, 70]\n"
          ]
        }
      ]
    },
    {
      "cell_type": "code",
      "source": [
        "#latihan Selection Sort slide 17\n",
        "#89  12  57  16  25\n",
        "#Tentukan prosedur pengurutan deret secara ascending menggunakan metode sorting selection sort!\n",
        "list = [89,12,57,16,25]\n",
        "for isi_slot in range (len(list)-1, 0, -1): # ascending\n",
        "    max_index = 0\n",
        "    for lokasi in range (1,isi_slot + 1):\n",
        "        if list[lokasi] > list[max_index]:\n",
        "            max_index = lokasi\n",
        "        list[isi_slot], list[max_index] = list[max_index],list[isi_slot]\n",
        "print (list)\n",
        "for isi_slot in range (len(list)-1, 0, -1): # descending\n",
        "    max_index = 0\n",
        "    for lokasi in range (1,isi_slot + 1):\n",
        "        if list[lokasi] < list[max_index]:\n",
        "            max_index = lokasi\n",
        "        list[isi_slot], list[max_index] = list[max_index],list[isi_slot]\n",
        "print (list)"
      ],
      "metadata": {
        "colab": {
          "base_uri": "https://localhost:8080/"
        },
        "id": "PXcSknlcwPg3",
        "outputId": "83530e58-b535-48f9-cc99-c1d50f1b3c32"
      },
      "execution_count": null,
      "outputs": [
        {
          "output_type": "stream",
          "name": "stdout",
          "text": [
            "[12, 16, 25, 57, 89]\n",
            "[89, 57, 25, 16, 12]\n"
          ]
        }
      ]
    },
    {
      "cell_type": "code",
      "source": [
        "#SEARCHING\n",
        "#Linear Searching\n",
        "def LinearSearch(list, item):\n",
        "    index = 0\n",
        "    found = False\n",
        "\n",
        "#Match the value with each data element\n",
        "    while index < len(list) and found is False:\n",
        "        if list[index] == item:\n",
        "          found = True\n",
        "        else:\n",
        "          index = index + 1\n",
        "    return found"
      ],
      "metadata": {
        "id": "cdp-MrmBxZxh"
      },
      "execution_count": null,
      "outputs": []
    },
    {
      "cell_type": "code",
      "source": [
        "list = [12,33,11,99,22,55,90]\n",
        "print(LinearSearch(list, 12))\n",
        "print(LinearSearch(list, 91))"
      ],
      "metadata": {
        "colab": {
          "base_uri": "https://localhost:8080/"
        },
        "id": "c4x_iDyryAmX",
        "outputId": "f0971f36-a17f-4243-bb86-d4ac1ab51477"
      },
      "execution_count": null,
      "outputs": [
        {
          "output_type": "stream",
          "name": "stdout",
          "text": [
            "True\n",
            "False\n"
          ]
        }
      ]
    },
    {
      "cell_type": "code",
      "source": [
        "#latihan Linear Search slide 21\n",
        "#Cari “a” dari deret huruf di bawah ini menggunakan metode searching linear search!\n",
        "#y  u  i  w  o  a  q  u  j  p\n",
        "def LinearSearch(list, item):\n",
        "    index = 0\n",
        "    found = False\n",
        "\n",
        "    while index < len(list) and found is False:\n",
        "        if list[index] == item:\n",
        "          found = True\n",
        "        else:\n",
        "          index = index + 1\n",
        "    return found\n",
        "string = \"yuiwoaqujp\"\n",
        "huruf = []\n",
        "huruf.extend(string)\n",
        "print(huruf)\n",
        "print(LinearSearch(huruf,'a'))"
      ],
      "metadata": {
        "colab": {
          "base_uri": "https://localhost:8080/"
        },
        "id": "U1pOe-MdycOm",
        "outputId": "96a36359-8876-4b11-f666-645d27db5215"
      },
      "execution_count": null,
      "outputs": [
        {
          "output_type": "stream",
          "name": "stdout",
          "text": [
            "['y', 'u', 'i', 'w', 'o', 'a', 'q', 'u', 'j', 'p']\n",
            "True\n"
          ]
        }
      ]
    },
    {
      "cell_type": "code",
      "source": [
        "#Binary Search\n",
        "def binarysearch (list,item):\n",
        "    first = 0\n",
        "    last = len(list)-1\n",
        "    found = False\n",
        "    while first <= last and not found:\n",
        "        midpoint = (first + last)//2\n",
        "        if list[midpoint] == item:\n",
        "            found = True\n",
        "        else:\n",
        "            if item < list[midpoint]:\n",
        "                last = midpoint-1\n",
        "            else:\n",
        "                first = midpoint+1\n",
        "    return found\n",
        "list = [12,33,11,99,22,55,90]\n",
        "sorted_list = BubbleSort(list)\n",
        "print(binarysearch(list,12))\n",
        "print(binarysearch(list,91))"
      ],
      "metadata": {
        "colab": {
          "base_uri": "https://localhost:8080/"
        },
        "id": "_sfwELenz-KJ",
        "outputId": "34627fea-6c83-4e49-d85b-6c58aaa43080"
      },
      "execution_count": null,
      "outputs": [
        {
          "output_type": "stream",
          "name": "stdout",
          "text": [
            "True\n",
            "False\n"
          ]
        }
      ]
    },
    {
      "cell_type": "code",
      "source": [
        "#Interpolation Search\n",
        "def intpolsearch(list,x):\n",
        "    idx0 = 0\n",
        "    idxn = (len(list)-1)\n",
        "    found = False\n",
        "    while idxn != idx0 and x >= list[idx0] and x <= list[idxn]:\n",
        "        mid = idx0 + int(float(idxn-idx0)/(list[idxn]-list[idx0])*(x-list[idx0]))\n",
        "        if list [mid] == x :\n",
        "            found = True\n",
        "            return found\n",
        "        if list[mid] < x:\n",
        "            idx0 = mid + 1\n",
        "    return found\n",
        "list = [12,33,11,99,22,55,90]\n",
        "sorted_list = BubbleSort(list)\n",
        "print(intpolsearch(list,12))\n",
        "print(intpolsearch(list,91))"
      ],
      "metadata": {
        "colab": {
          "base_uri": "https://localhost:8080/"
        },
        "id": "MPbdoPMo1Wdk",
        "outputId": "b1b4c184-ff8f-40fd-bce4-cb8d48f2aed2"
      },
      "execution_count": null,
      "outputs": [
        {
          "output_type": "stream",
          "name": "stdout",
          "text": [
            "True\n",
            "False\n"
          ]
        }
      ]
    },
    {
      "cell_type": "code",
      "source": [
        "#latihan interpolation search slide 27\n",
        "# Cari “u” dari deret huruf di bawah ini menggunakan metode searching interpolation search!\n",
        "#y  u  i  w  o  a  q  u  j  p\n",
        "#latihan interpolation Search\n",
        "def pencarian_intpol(huruf,item):\n",
        "    i = 0\n",
        "    j = (len(huruf)-1)\n",
        "    found = False\n",
        "    while  i <= j and item >= huruf[i] and item <= huruf[j]:\n",
        "        mid = i + int(float(j-i)/(huruf[j]-huruf[i])*(item - huruf[i]))\n",
        "        if huruf[mid] == item:\n",
        "            found = True\n",
        "            return found\n",
        "        if huruf[mid]<item:\n",
        "            i = mid + 1\n",
        "    return found\n",
        "huruf = ['y','u','i','w','a','q','u','j','p']\n",
        "x = [] #converting to unicode\n",
        "for i in huruf:\n",
        "    x.append(ord(i))\n",
        "sorted_list = BubbleSort(x)\n",
        "cari = 'a'\n",
        "print(x)\n",
        "print(pencarian_intpol(x,int(ord(cari))))"
      ],
      "metadata": {
        "colab": {
          "base_uri": "https://localhost:8080/"
        },
        "id": "MBaCIxYC4YQW",
        "outputId": "a7953346-2eb8-4cca-9a1e-dbf24028d99e"
      },
      "execution_count": null,
      "outputs": [
        {
          "output_type": "stream",
          "name": "stdout",
          "text": [
            "[97, 105, 106, 112, 113, 117, 117, 119, 121]\n",
            "True\n"
          ]
        }
      ]
    }
  ]
}