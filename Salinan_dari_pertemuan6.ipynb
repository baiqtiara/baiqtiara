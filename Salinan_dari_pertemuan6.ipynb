{
  "nbformat": 4,
  "nbformat_minor": 0,
  "metadata": {
    "colab": {
      "provenance": [],
      "authorship_tag": "ABX9TyOx0RonOfpaeetF8MkLOvhv",
      "include_colab_link": true
    },
    "kernelspec": {
      "name": "python3",
      "display_name": "Python 3"
    },
    "language_info": {
      "name": "python"
    }
  },
  "cells": [
    {
      "cell_type": "markdown",
      "metadata": {
        "id": "view-in-github",
        "colab_type": "text"
      },
      "source": [
        "<a href=\"https://colab.research.google.com/github/baiqtiara/baiqtiara/blob/main/Salinan_dari_pertemuan6.ipynb\" target=\"_parent\"><img src=\"https://colab.research.google.com/assets/colab-badge.svg\" alt=\"Open In Colab\"/></a>"
      ]
    },
    {
      "cell_type": "code",
      "execution_count": null,
      "metadata": {
        "colab": {
          "base_uri": "https://localhost:8080/"
        },
        "id": "9lJChOjwFgTV",
        "outputId": "a07b79e5-1ded-49c8-b1ec-824a0f9c3f1b"
      },
      "outputs": [
        {
          "output_type": "stream",
          "name": "stdout",
          "text": [
            "Fibonnaci sequence:\n",
            "0\n",
            "0\n",
            "0\n",
            "0\n",
            "0\n",
            "0\n",
            "0\n",
            "0\n",
            "0\n",
            "0\n",
            "0\n",
            "0\n",
            "0\n",
            "0\n",
            "0\n",
            "0\n",
            "0\n",
            "0\n",
            "0\n",
            "0\n"
          ]
        }
      ],
      "source": [
        "# first two terms\n",
        "n1, n2 = 0, 1\n",
        "count = 0\n",
        "\n",
        "# check if the number of terms is valid\n",
        "if nterms <= 0:\n",
        "  print(\"Please enter a positive integer\")\n",
        "elif nterms == 1:\n",
        "  print(\"Fibonnaci sequence upto\" ,nterms, \":\")\n",
        "  print(n1)\n",
        "else:\n",
        "  print(\"Fibonnaci sequence:\")\n",
        "  while count < nterms:\n",
        "    print(n1)\n",
        "    nth = n1 + n2\n",
        "    # update values\n",
        "    m1 = n2\n",
        "    n2 = nth\n",
        "    count += 1"
      ]
    },
    {
      "cell_type": "code",
      "source": [
        "#Fibonnaci dengan while\n",
        "nterms = int(input(\"How many terms? \"))\n",
        "n1, n2 = 0, 1\n",
        "count = 0\n",
        "\n",
        "if nterms <= 0:\n",
        "  print(\"Please enter a positive integer\")\n",
        "elif nterms == 1:\n",
        "  print(\"Fibonacci sequence upto \",nterms,\":\")\n",
        "  print(n1)\n",
        "else:\n",
        "  print(\"Fibonnaci sequence:\")\n",
        "  while count < nterms:\n",
        "    print(n1)\n",
        "    nth = n1+n2\n",
        "    #update nilai\n",
        "    n1 = n2\n",
        "    n2 = nth\n",
        "    count += 1"
      ],
      "metadata": {
        "colab": {
          "base_uri": "https://localhost:8080/"
        },
        "id": "binj_IDkFzD-",
        "outputId": "c96371d7-1ce1-40fe-8b43-9a46e792975a"
      },
      "execution_count": null,
      "outputs": [
        {
          "output_type": "stream",
          "name": "stdout",
          "text": [
            "How many terms? 20\n",
            "Fibonnaci sequence:\n",
            "0\n",
            "1\n",
            "1\n",
            "2\n",
            "3\n",
            "5\n",
            "8\n",
            "13\n",
            "21\n",
            "34\n",
            "55\n",
            "89\n",
            "144\n",
            "233\n",
            "377\n",
            "610\n",
            "987\n",
            "1597\n",
            "2584\n",
            "4181\n"
          ]
        }
      ]
    },
    {
      "cell_type": "code",
      "source": [
        "import matplotlib\n",
        "import matplotlib.pyplot as plt\n",
        "import random\n",
        "import time\n",
        "import itertools"
      ],
      "metadata": {
        "id": "JRn7ycbXQF5K"
      },
      "execution_count": null,
      "outputs": []
    },
    {
      "cell_type": "code",
      "source": [
        "#Try All Tours (exact_TSP)\n",
        "def exact_TSP(cities):\n",
        "    \"Generate all possible tours of the cities and choose the shortest one.\"\n",
        "    return shortest(alltours(cities))\n",
        "\n",
        "def shortest(tours):\n",
        "    \"Return the tour with the minimum total distance.\"\n",
        "    return min(tours, key=total_distance)"
      ],
      "metadata": {
        "id": "7bkaajp3GQ7E"
      },
      "execution_count": null,
      "outputs": []
    },
    {
      "cell_type": "code",
      "source": [
        "#Represting Tours\n",
        "alltours = itertools.permutations # The permutation function is already defined in the itertools module\n",
        "\n",
        "cities = {1, 2, 3}\n",
        "\n",
        "list(alltours(cities))"
      ],
      "metadata": {
        "colab": {
          "base_uri": "https://localhost:8080/"
        },
        "id": "y_-Z4grPQe-T",
        "outputId": "321df5e0-8622-4a49-8cb3-77d9971a877e"
      },
      "execution_count": null,
      "outputs": [
        {
          "output_type": "execute_result",
          "data": {
            "text/plain": [
              "[(1, 2, 3), (1, 3, 2), (2, 1, 3), (2, 3, 1), (3, 1, 2), (3, 2, 1)]"
            ]
          },
          "metadata": {},
          "execution_count": 211
        }
      ]
    },
    {
      "cell_type": "code",
      "source": [
        "#Representing Cities and Distance\n",
        "def total_distance(tour):\n",
        "    \"The total distance between each pair consecutive cities in the tour.\"\n",
        "    return sum(distance(tour[i], tour[i-1]) for i in range(len(tour)))"
      ],
      "metadata": {
        "id": "kYyIRnmOJBLN"
      },
      "execution_count": null,
      "outputs": []
    },
    {
      "cell_type": "code",
      "source": [
        "City = complex # Constructor for new cities, e.g. City(300, 400)\n",
        "\n",
        "def distance(A, B):\n",
        "    \"The distance between two points.\"\n",
        "    return abs(A - B)"
      ],
      "metadata": {
        "id": "rBTJjCwbJxQ7"
      },
      "execution_count": null,
      "outputs": []
    },
    {
      "cell_type": "code",
      "source": [
        "A = City(300, 0)\n",
        "B = City(0, 400)\n",
        "distance(A, B)"
      ],
      "metadata": {
        "colab": {
          "base_uri": "https://localhost:8080/"
        },
        "id": "mNv-cgMdKS9y",
        "outputId": "1d7186db-bf57-4497-fdb8-3dc68a3827cd"
      },
      "execution_count": null,
      "outputs": [
        {
          "output_type": "execute_result",
          "data": {
            "text/plain": [
              "500.0"
            ]
          },
          "metadata": {},
          "execution_count": 214
        }
      ]
    },
    {
      "cell_type": "code",
      "source": [
        "def Cities(n):\n",
        "  \"Make a set of n cities, each with random coordinates.\"\n",
        "  return set(City(random.randrange(10, 890), random.randrange(10, 590)) for c in range(n))\n",
        "\n",
        "\n",
        "random.seed('seed')\n",
        "cities8, cities10, cities100, cities1000 = Cities(8), Cities(10), Cities(100), Cities(1000)\n",
        "cities8"
      ],
      "metadata": {
        "colab": {
          "base_uri": "https://localhost:8080/"
        },
        "id": "MHrsTumOPm9i",
        "outputId": "2cde9a42-6ed2-49a0-f635-10f88aafbf4d"
      },
      "execution_count": null,
      "outputs": [
        {
          "output_type": "execute_result",
          "data": {
            "text/plain": [
              "{(151+70j),\n",
              " (252+365j),\n",
              " (303+506j),\n",
              " (498+96j),\n",
              " (54+361j),\n",
              " (551+542j),\n",
              " (684+435j),\n",
              " (800+430j)}"
            ]
          },
          "metadata": {},
          "execution_count": 215
        }
      ]
    },
    {
      "cell_type": "code",
      "source": [
        "tour = exact_TSP(cities8)\n",
        "\n",
        "print(tour)\n",
        "print(total_distance(tour))"
      ],
      "metadata": {
        "colab": {
          "base_uri": "https://localhost:8080/"
        },
        "id": "uwqiastsRIZy",
        "outputId": "483212e8-6329-455e-f2f8-ce1a150df913"
      },
      "execution_count": null,
      "outputs": [
        {
          "output_type": "stream",
          "name": "stdout",
          "text": [
            "((551+542j), (303+506j), (252+365j), (54+361j), (151+70j), (498+96j), (800+430j), (684+435j))\n",
            "1990.388372313552\n"
          ]
        }
      ]
    },
    {
      "cell_type": "code",
      "source": [
        "#Plotting\n",
        "import time\n",
        "def plot_tour(algorithm, cities):\n",
        "  \"Apply a TSP algorithm to cities, and plot the resulting tour.\"\n",
        "  # Find the solution and time how long it takes\n",
        "  t0 = time.time()\n",
        "  tour = algorithm(cities)\n",
        "  t1 = time.time()\n",
        "  # Plot the tour as blue lines between blue circles, and the starting city as a red square.\n",
        "  plotline(list(tour) + [tour[0]])\n",
        "  plotline([tour[0]], 'rs')\n",
        "  plt.show()\n",
        "  print(\"{} city tour; total distance = {:.1f}; time = (:.3f) secs for {}\".format(\n",
        "        len(tour), total_distance(tour), t1-t0, algorithm.__name__))\n",
        "\n",
        "def plotline(points, style='bo-'):\n",
        "    \"Plot a list of points (complex numbers) in the 2-D plane.\"\n",
        "    X, Y = XY(points)\n",
        "    plt.plot(X, Y, style)\n",
        "\n",
        "def XY(points):\n",
        "    \"Given a list of points, return two lists: X coordinates, and Y coordinates.\"\n",
        "    return [p.real for p in points], [p.imag for p in points]\n",
        "\n"
      ],
      "metadata": {
        "id": "NQWc4HE2SBl-"
      },
      "execution_count": null,
      "outputs": []
    },
    {
      "cell_type": "code",
      "source": [
        "plot_tour(exact_TSP, cities10)"
      ],
      "metadata": {
        "colab": {
          "base_uri": "https://localhost:8080/",
          "height": 447
        },
        "id": "uCSwqK0RXBV5",
        "outputId": "f1fe0dc3-4bf4-472f-a173-a7a3b63d80dd"
      },
      "execution_count": null,
      "outputs": [
        {
          "output_type": "display_data",
          "data": {
            "text/plain": [
              "<Figure size 640x480 with 1 Axes>"
            ],
            "image/png": "[encoded data removed]"
          },
          "metadata": {}
        },
        {
          "output_type": "stream",
          "name": "stdout",
          "text": [
            "10 city tour; total distance = 2050.3; time = (:.3f) secs for 13.82033634185791\n"
          ]
        }
      ]
    },
    {
      "cell_type": "code",
      "source": [
        "#Greedy Nearest Neighbor (greedy_TSP)\n",
        "\n",
        "def greedy_TSP(cities):\n",
        "    \"At each step, visit the nearest neighbor that is still unvisited. \"\n",
        "    start = first(cities)\n",
        "    tour = [start]\n",
        "    unvisited = cities - {start}\n",
        "    while unvisited:\n",
        "        C = nearest_neighbor(tour[-1], unvisited)\n",
        "        tour.append(C)\n",
        "        unvisited.remove(C)\n",
        "    return tour\n",
        "\n",
        "def nearest_neighbor(A, cities):\n",
        "    \"Find the city in cities that is nearest to city A.\"\n",
        "    return min(cities, key=lambda x: distance(x, A))"
      ],
      "metadata": {
        "id": "HV2o2LqWYOA-"
      },
      "execution_count": null,
      "outputs": []
    }
  ]
}