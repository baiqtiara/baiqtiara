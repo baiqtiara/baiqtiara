{
  "nbformat": 4,
  "nbformat_minor": 0,
  "metadata": {
    "colab": {
      "provenance": [],
      "authorship_tag": "ABX9TyNx77yRxmn/skdbWxMEJouW",
      "include_colab_link": true
    },
    "kernelspec": {
      "name": "python3",
      "display_name": "Python 3"
    },
    "language_info": {
      "name": "python"
    }
  },
  "cells": [
    {
      "cell_type": "markdown",
      "metadata": {
        "id": "view-in-github",
        "colab_type": "text"
      },
      "source": [
        "<a href=\"https://colab.research.google.com/github/baiqtiara/baiqtiara/blob/main/Copy_of_pertemuan11.ipynb\" target=\"_parent\"><img src=\"https://colab.research.google.com/assets/colab-badge.svg\" alt=\"Open In Colab\"/></a>"
      ]
    },
    {
      "cell_type": "code",
      "execution_count": null,
      "metadata": {
        "id": "bl2o3yJmzEyM"
      },
      "outputs": [],
      "source": [
        "# a----b\n",
        "# |    |\n",
        "# |    |\n",
        "# c----d-----e"
      ]
    },
    {
      "cell_type": "code",
      "source": [
        "# Create the dicitionary with graph elements\n",
        "graph = {\"a\" : [\"b\", \"c\"],\n",
        "         \"b\" : [\"a\", \"d\"],\n",
        "         \"c\" : [\"a\", \"d\"],\n",
        "         \"d\" : [\"e\"],\n",
        "         \"e\" : [\"d\"],\n",
        "        }\n",
        "\n",
        "# Print the graph\n",
        "print(graph)"
      ],
      "metadata": {
        "colab": {
          "base_uri": "https://localhost:8080/"
        },
        "id": "Fkk8VCHHzO7z",
        "outputId": "af8d1283-a3d8-40a0-9126-77016596ea3d"
      },
      "execution_count": null,
      "outputs": [
        {
          "output_type": "stream",
          "name": "stdout",
          "text": [
            "{'a': ['b', 'c'], 'b': ['a', 'd'], 'c': ['a', 'd'], 'd': ['e'], 'e': ['d']}\n"
          ]
        }
      ]
    },
    {
      "cell_type": "code",
      "source": [
        "# Latihan 1 Graph\n",
        "graph = {\"t\" : [\"u\",\"w\"],\n",
        "         \"u\" : [\"v\"],\n",
        "         \"v\" : [\"x\"],\n",
        "         \"w\" : [\"x\",\"z\"],\n",
        "         \"x\" : [\"s\"],\n",
        "         \"z\" : [\"w\"],\n",
        "         \"s\" : [\"x\"],\n",
        "        }\n",
        "\n",
        "# print the graph\n",
        "print(graph)"
      ],
      "metadata": {
        "colab": {
          "base_uri": "https://localhost:8080/"
        },
        "id": "Y4CwYLOzzReK",
        "outputId": "ffec89a9-6048-4f1f-bf7b-2d165ce6d0a8"
      },
      "execution_count": null,
      "outputs": [
        {
          "output_type": "stream",
          "name": "stdout",
          "text": [
            "{'t': ['u', 'w'], 'u': ['v'], 'v': ['x'], 'w': ['x', 'z'], 'x': ['s'], 'z': ['w'], 's': ['x']}\n"
          ]
        }
      ]
    },
    {
      "cell_type": "code",
      "source": [
        "# Latihan 2 Graph\n",
        "graph = {\"r\" : [\"o\",\"m\"],\n",
        "         \"o\" : [\"m\",\"p\"],\n",
        "         \"m\" : [\"n\"],\n",
        "         \"p\" : [\"n\"],\n",
        "         \"l\" : [\"p\"],\n",
        "         \"n\" : [\"p\"],\n",
        "}\n",
        "\n",
        "# print the graph\n",
        "print(graph)"
      ],
      "metadata": {
        "colab": {
          "base_uri": "https://localhost:8080/"
        },
        "id": "qsUkS_HlzWRo",
        "outputId": "c69e8962-31aa-4366-9acf-7655d063bf1a"
      },
      "execution_count": null,
      "outputs": [
        {
          "output_type": "stream",
          "name": "stdout",
          "text": [
            "{'r': ['o', 'm'], 'o': ['m', 'p'], 'm': ['n'], 'p': ['n'], 'l': ['p'], 'n': ['p']}\n"
          ]
        }
      ]
    },
    {
      "cell_type": "code",
      "source": [
        "class Graph:\n",
        "  def __init__(self, gdict=None):\n",
        "    if gdict is None:\n",
        "      gdict = {}\n",
        "    self.gdict = gdict\n",
        "\n",
        "  # Get the keys of the dictionary\n",
        "  def getVertices(self):\n",
        "    return list(self.gdict.keys())\n",
        "\n",
        "# Create dictionary with graph elements\n",
        "graph_elements = {\n",
        "    \"a\" : [\"b\", \"c\"],\n",
        "    \"b\" : [\"a\", \"d\"],\n",
        "    \"c\" : [\"a\", \"d\"],\n",
        "    \"d\" : [\"e\"],\n",
        "    \"e\" : [\"d\"],\n",
        "}\n",
        "\n",
        "# Create an instance of the Graph class and pass the graph_elements\n",
        "g = Graph(graph_elements)\n",
        "\n",
        "# Print the vertices by calling the getVertices method with parentheses\n",
        "print(g.getVertices())"
      ],
      "metadata": {
        "colab": {
          "base_uri": "https://localhost:8080/"
        },
        "id": "F_m3gkhezZj4",
        "outputId": "00a549ca-8aaa-480d-bf7d-86b2aa8bcd98"
      },
      "execution_count": null,
      "outputs": [
        {
          "output_type": "stream",
          "name": "stdout",
          "text": [
            "['a', 'b', 'c', 'd', 'e']\n"
          ]
        }
      ]
    },
    {
      "cell_type": "code",
      "source": [
        "# Latihan 3 Elemen Simpul\n",
        "class Graph:\n",
        "  def __init__(self, gdict=None):\n",
        "    if gdict is None:\n",
        "      gdict = {}\n",
        "    self.gdict = gdict\n",
        "\n",
        "  # Get the keys of the dictionary\n",
        "  def getVertices(self):\n",
        "    return list(self.gdict.keys())\n",
        "\n",
        "# Create dictionary with graph elements\n",
        "graph_elements = {\n",
        "    \"t\" : [\"u\", \"w\"],\n",
        "    \"u\" : [\"t\", \"v\"],\n",
        "    \"v\" : [\"u\", \"x\"],\n",
        "    \"w\" : [\"t\", \"x\", \"z\"],\n",
        "    \"x\" : [\"v\", \"s\"],\n",
        "    \"s\" : [\"x\"],\n",
        "    \"z\" : [\"w\"],\n",
        "}\n",
        "\n",
        "# Create an instance of the Graph class and pass the graph_elements\n",
        "g = Graph(graph_elements)\n",
        "\n",
        "# Print the vertices by calling the getVertices method with parentheses\n",
        "print(g.getVertices())"
      ],
      "metadata": {
        "colab": {
          "base_uri": "https://localhost:8080/"
        },
        "id": "xEVTtsw0ziOV",
        "outputId": "69ed1aba-7316-4531-b28a-70a929e19056"
      },
      "execution_count": null,
      "outputs": [
        {
          "output_type": "stream",
          "name": "stdout",
          "text": [
            "['t', 'u', 'v', 'w', 'x', 's', 'z']\n"
          ]
        }
      ]
    },
    {
      "cell_type": "code",
      "source": [
        "class Graph:\n",
        "  def __init__(self, gdict=None):\n",
        "    if gdict is None:\n",
        "      gdict = {}\n",
        "    self.gdict = gdict\n",
        "\n",
        "  # Get the keys of the dictionary\n",
        "  def getVertices(self):\n",
        "    return list(self.gdict.keys())\n",
        "\n",
        "# Create dictionary with graph elements\n",
        "graph_elements = {\n",
        "    \"a\" : [\"b\", \"c\"],\n",
        "    \"b\" : [\"a\", \"d\"],\n",
        "    \"c\" : [\"a\", \"d\"],\n",
        "    \"d\" : [\"e\"],\n",
        "    \"e\" : [\"d\"],\n",
        "}\n",
        "\n",
        "# Create an instance of the Graph class and pass the graph_elements\n",
        "g = Graph(graph_elements)\n",
        "\n",
        "# Print the vertices by calling the getVertices method with parentheses\n",
        "print(g.getVertices())"
      ],
      "metadata": {
        "colab": {
          "base_uri": "https://localhost:8080/"
        },
        "id": "Er4umuxFzlVc",
        "outputId": "7f337c9e-956d-40f6-f6d2-ccb1fe4b2976"
      },
      "execution_count": null,
      "outputs": [
        {
          "output_type": "stream",
          "name": "stdout",
          "text": [
            "['a', 'b', 'c', 'd', 'e']\n"
          ]
        }
      ]
    },
    {
      "cell_type": "code",
      "source": [
        "# Latihan 4 Simpul\n",
        "class Graph:\n",
        "  def __init__(self, gdict=None):\n",
        "    if gdict is None:\n",
        "      gdict = {}\n",
        "    self.gdict = gdict\n",
        "\n",
        "  # Get the keys of the dictionary\n",
        "  def getVertices(self):\n",
        "    return list(self.gdict.keys())\n",
        "\n",
        "# Create dictionary with graph elements\n",
        "graph_elements = {\n",
        "    \"r\" : [\"o\", \"l\"],\n",
        "    \"o\" : [\"r\", \"m\", \"p\"],\n",
        "    \"m\" : [\"o\", \"n\"],\n",
        "    \"l\" : [\"r\", \"p\"],\n",
        "    \"p\" : [\"o\", \"n\"],\n",
        "    \"n\" : [\"p\", \"m\"],\n",
        "}\n",
        "\n",
        "# Create an instance of the Graph class and pass the graph_elements\n",
        "g = Graph(graph_elements)\n",
        "\n",
        "# Print the vertices by calling the getVertices method with parentheses\n",
        "print(g.getVertices())"
      ],
      "metadata": {
        "colab": {
          "base_uri": "https://localhost:8080/"
        },
        "id": "ad1sGm-AzrcC",
        "outputId": "92d55433-be85-41d6-fd47-37d099c61651"
      },
      "execution_count": null,
      "outputs": [
        {
          "output_type": "stream",
          "name": "stdout",
          "text": [
            "['r', 'o', 'm', 'l', 'p', 'n']\n"
          ]
        }
      ]
    },
    {
      "cell_type": "code",
      "source": [
        "class graph:\n",
        "  def _init_(self,gdict=None):\n",
        "    if gdict is None:\n",
        "      gdict = {}\n",
        "    self.gdict = gdict\n",
        "\n",
        "  def edges(self):\n",
        "    return self.findedges()\n",
        "\n",
        "# find the distinct lis of edges\n",
        "  def findedges(self):\n",
        "    edgename = []\n",
        "    for vrtx in self.gdict:\n",
        "      for nxtvrtx in self.gdict[vrtx]:\n",
        "        if {nxtvrtx, vrtx} not in edgename:\n",
        "            edgename.append({vrtx, nxtvrtx})\n",
        "    return edgename\n",
        "\n",
        "# create the dicitionary with graph elements\n",
        "graph_elements = { \"a\": [\"b\",\"c\"],\n",
        "                \"b\": [\"a\", \"d\"],\n",
        "                \"c\": [\"a\", \"d\"],\n",
        "                \"d\": [\"e\"],\n",
        "                \"e\": [\"d\"],\n",
        "                }\n",
        "\n",
        "g = graph_elements\n",
        "\n",
        "print(graph_elements)"
      ],
      "metadata": {
        "colab": {
          "base_uri": "https://localhost:8080/"
        },
        "id": "V2FedjRjzw-F",
        "outputId": "7b1be913-39cf-421a-d60b-86918ea1af43"
      },
      "execution_count": null,
      "outputs": [
        {
          "output_type": "stream",
          "name": "stdout",
          "text": [
            "{'a': ['b', 'c'], 'b': ['a', 'd'], 'c': ['a', 'd'], 'd': ['e'], 'e': ['d']}\n"
          ]
        }
      ]
    },
    {
      "cell_type": "code",
      "source": [
        "# Latihan 5 sudut graph\n",
        "class graph:\n",
        "  def _init_(self,gdict=None):\n",
        "    if gdict is None:\n",
        "      gdict = {}\n",
        "    self.gdict = gdict\n",
        "\n",
        "  def edges(self):\n",
        "    return self.findedges()\n",
        "\n",
        "# find the distinct lis of edges\n",
        "  def findedges(self):\n",
        "    edgename = []\n",
        "    for vrtx in self.gdict:\n",
        "      for nxtvrtx in self.gdict[vrtx]:\n",
        "        if {nxtvrtx, vrtx} not in edgename:\n",
        "            edgename.append({vrtx, nxtvrtx})\n",
        "    return edgename\n",
        "\n",
        "# create the dicitionary with graph elements\n",
        "graph_elements = {\"t\" : [\"u\", \"w\"],\n",
        "                  \"u\" : [\"t\", \"v\"],\n",
        "                  \"v\" : [\"u\", \"x\"],\n",
        "                  \"w\" : [\"t\", \"x\", \"z\"],\n",
        "                  \"x\" : [\"v\", \"s\"],\n",
        "                  \"s\" : [\"x\"],\n",
        "                  \"z\" : [\"w\"],\n",
        "                  }\n",
        "\n",
        "g = graph_elements\n",
        "\n",
        "print(graph_elements)"
      ],
      "metadata": {
        "colab": {
          "base_uri": "https://localhost:8080/"
        },
        "id": "91HfkboG14Nz",
        "outputId": "7383ebff-164c-412a-a8ab-72491b667c49"
      },
      "execution_count": null,
      "outputs": [
        {
          "output_type": "stream",
          "name": "stdout",
          "text": [
            "{'t': ['u', 'w'], 'u': ['t', 'v'], 'v': ['u', 'x'], 'w': ['t', 'x', 'z'], 'x': ['v', 's'], 's': ['x'], 'z': ['w']}\n"
          ]
        }
      ]
    },
    {
      "cell_type": "code",
      "source": [
        "# Latihan 6 sudut graph\n",
        "class graph:\n",
        "  def _init_(self,gdict=None):\n",
        "    if gdict is None:\n",
        "      gdict = {}\n",
        "    self.gdict = gdict\n",
        "\n",
        "  def edges(self):\n",
        "    return self.findedges()\n",
        "\n",
        "# find the distinct lis of edges\n",
        "  def findedges(self):\n",
        "    edgename = []\n",
        "    for vrtx in self.gdict:\n",
        "      for nxtvrtx in self.gdict[vrtx]:\n",
        "        if {nxtvrtx, vrtx} not in edgename:\n",
        "            edgename.append({vrtx, nxtvrtx})\n",
        "    return edgename\n",
        "\n",
        "# create the dicitionary with graph elements\n",
        "graph_elements = {\"r\" : [\"o\", \"l\"],\n",
        "                  \"o\" : [\"r\", \"m\", \"p\"],\n",
        "                  \"m\" : [\"o\", \"n\"],\n",
        "                  \"l\" : [\"r\", \"p\"],\n",
        "                  \"p\" : [\"o\", \"n\"],\n",
        "                  \"n\" : [\"p\", \"m\"],\n",
        "                  }\n",
        "\n",
        "g = graph_elements\n",
        "\n",
        "print(graph_elements)"
      ],
      "metadata": {
        "colab": {
          "base_uri": "https://localhost:8080/"
        },
        "id": "UZWAdQvN2lT3",
        "outputId": "df21c038-8ab9-4707-d9ea-bdeab830ce06"
      },
      "execution_count": null,
      "outputs": [
        {
          "output_type": "stream",
          "name": "stdout",
          "text": [
            "{'r': ['o', 'l'], 'o': ['r', 'm', 'p'], 'm': ['o', 'n'], 'l': ['r', 'p'], 'p': ['o', 'n'], 'n': ['p', 'm']}\n"
          ]
        }
      ]
    },
    {
      "cell_type": "code",
      "source": [
        "# Latihan 7 tambahkan simpul f pada graph\n",
        "class graph:\n",
        "  def _init_(self,gdict=None):\n",
        "    if gdict is None:\n",
        "      gdict = {}\n",
        "    self.gdict = gdict\n",
        "\n",
        "  def getVertices(self):\n",
        "    return list(self.gdict.keys())\n",
        "\n",
        "# add the vertex as a key\n",
        "  def addVertex(self, vrtx):\n",
        "    if vrtx not in self.gdict:\n",
        "      self.gdict[vrtx] = []\n",
        "\n",
        "# create the dicitionary with graph elements\n",
        "graph_elements = {\"t\" : [\"u\",\"w\"],\n",
        "                  \"u\" : [\"t\",\"v\"],\n",
        "                  \"v\" : [\"u\",\"x\"],\n",
        "                  \"w\" : [\"t\",\"x\",\"z\"],\n",
        "                  \"x\" : [\"v\",\"w\",\"s\"],\n",
        "                  \"z\" : [\"w\"],\n",
        "                  \"s\" : [\"x\"],\n",
        "                  }\n",
        "\n",
        "g = 'dict_values'(graph_elements)\n",
        "g.addVertex(\"f\")\n",
        "print(g.getVertices)"
      ],
      "metadata": {
        "colab": {
          "base_uri": "https://localhost:8080/",
          "height": 334
        },
        "id": "nUXazHs922bd",
        "outputId": "2a813bea-c765-4a4f-d521-6e194723f124"
      },
      "execution_count": null,
      "outputs": [
        {
          "output_type": "stream",
          "name": "stderr",
          "text": [
            "<>:26: SyntaxWarning: 'str' object is not callable; perhaps you missed a comma?\n",
            "<>:26: SyntaxWarning: 'str' object is not callable; perhaps you missed a comma?\n",
            "<ipython-input-106-e1db3c2ba4f2>:26: SyntaxWarning: 'str' object is not callable; perhaps you missed a comma?\n",
            "  g = 'dict_values'(graph_elements)\n"
          ]
        },
        {
          "output_type": "error",
          "ename": "TypeError",
          "evalue": "ignored",
          "traceback": [
            "\u001b[0;31m---------------------------------------------------------------------------\u001b[0m",
            "\u001b[0;31mTypeError\u001b[0m                                 Traceback (most recent call last)",
            "\u001b[0;32m<ipython-input-106-e1db3c2ba4f2>\u001b[0m in \u001b[0;36m<cell line: 26>\u001b[0;34m()\u001b[0m\n\u001b[1;32m     24\u001b[0m                   }\n\u001b[1;32m     25\u001b[0m \u001b[0;34m\u001b[0m\u001b[0m\n\u001b[0;32m---> 26\u001b[0;31m \u001b[0mg\u001b[0m \u001b[0;34m=\u001b[0m \u001b[0;34m'dict_values'\u001b[0m\u001b[0;34m(\u001b[0m\u001b[0mgraph_elements\u001b[0m\u001b[0;34m)\u001b[0m\u001b[0;34m\u001b[0m\u001b[0;34m\u001b[0m\u001b[0m\n\u001b[0m\u001b[1;32m     27\u001b[0m \u001b[0mg\u001b[0m\u001b[0;34m.\u001b[0m\u001b[0maddVertex\u001b[0m\u001b[0;34m(\u001b[0m\u001b[0;34m\"f\"\u001b[0m\u001b[0;34m)\u001b[0m\u001b[0;34m\u001b[0m\u001b[0;34m\u001b[0m\u001b[0m\n\u001b[1;32m     28\u001b[0m \u001b[0mprint\u001b[0m\u001b[0;34m(\u001b[0m\u001b[0mg\u001b[0m\u001b[0;34m.\u001b[0m\u001b[0mgetVertices\u001b[0m\u001b[0;34m)\u001b[0m\u001b[0;34m\u001b[0m\u001b[0;34m\u001b[0m\u001b[0m\n",
            "\u001b[0;31mTypeError\u001b[0m: 'str' object is not callable"
          ]
        }
      ]
    }
  ]
}