{
  "nbformat": 4,
  "nbformat_minor": 0,
  "metadata": {
    "colab": {
      "provenance": [],
      "authorship_tag": "ABX9TyPy4YJsMfwQhagFJmwwwaSi",
      "include_colab_link": true
    },
    "kernelspec": {
      "name": "python3",
      "display_name": "Python 3"
    },
    "language_info": {
      "name": "python"
    }
  },
  "cells": [
    {
      "cell_type": "markdown",
      "metadata": {
        "id": "view-in-github",
        "colab_type": "text"
      },
      "source": [
        "<a href=\"https://colab.research.google.com/github/baiqtiara/baiqtiara/blob/main/Copy_of_pertemuan10.ipynb\" target=\"_parent\"><img src=\"https://colab.research.google.com/assets/colab-badge.svg\" alt=\"Open In Colab\"/></a>"
      ]
    },
    {
      "cell_type": "code",
      "execution_count": null,
      "metadata": {
        "colab": {
          "base_uri": "https://localhost:8080/"
        },
        "id": "GSZmBBkoNIj5",
        "outputId": "8b9a6e9e-b321-4bd2-9423-cf4241ac3fbf"
      },
      "outputs": [
        {
          "output_type": "stream",
          "name": "stdout",
          "text": [
            "Collecting pulp\n",
            "  Downloading PuLP-2.7.0-py3-none-any.whl (14.3 MB)\n",
            "\u001b[2K     \u001b[90m━━━━━━━━━━━━━━━━━━━━━━━━━━━━━━━━━━━━━━━━\u001b[0m \u001b[32m14.3/14.3 MB\u001b[0m \u001b[31m56.7 MB/s\u001b[0m eta \u001b[36m0:00:00\u001b[0m\n",
            "\u001b[?25hInstalling collected packages: pulp\n",
            "Successfully installed pulp-2.7.0\n"
          ]
        }
      ],
      "source": [
        "pip install pulp"
      ]
    },
    {
      "cell_type": "code",
      "source": [
        "import pulp"
      ],
      "metadata": {
        "id": "L2qnkO3TRVb7"
      },
      "execution_count": null,
      "outputs": []
    },
    {
      "cell_type": "code",
      "source": [
        "# Instantiate our problem class\n",
        "model = pulp.LpProblem(\"ProfitMaximisingProblem\", pulp.LpMaximize)\n",
        "\n",
        "A = pulp.LpVariable('A', lowBound=0, cat='Integer')\n",
        "B = pulp.LpVariable('B', lowBound=0, cat='Integer')"
      ],
      "metadata": {
        "id": "VXIHgWz6Tqp9"
      },
      "execution_count": null,
      "outputs": []
    },
    {
      "cell_type": "code",
      "source": [
        "# Objective function\n",
        "model += 5000 * A + 2500 * B, \"Profit\"\n",
        "\n",
        "# Constraints\n",
        "model += 3 * A + 2 * B <= 20\n",
        "model += 4 * A + 3 * B <= 30\n",
        "model += 4 * A + 3 * B <= 44"
      ],
      "metadata": {
        "id": "v5QU4uTkT2i9"
      },
      "execution_count": null,
      "outputs": []
    },
    {
      "cell_type": "code",
      "source": [
        "# Solve our problem\n",
        "model.solve()\n",
        "pulp.LpStatus[model.status]"
      ],
      "metadata": {
        "colab": {
          "base_uri": "https://localhost:8080/",
          "height": 36
        },
        "id": "KU4ii--YaNt3",
        "outputId": "aa2dde55-5999-4776-d64b-4fed197fed5c"
      },
      "execution_count": null,
      "outputs": [
        {
          "output_type": "execute_result",
          "data": {
            "text/plain": [
              "'Optimal'"
            ],
            "application/vnd.google.colaboratory.intrinsic+json": {
              "type": "string"
            }
          },
          "metadata": {},
          "execution_count": 9
        }
      ]
    },
    {
      "cell_type": "code",
      "source": [
        "# Print our decision variable values\n",
        "print (A.varValue)\n",
        "print (B.varValue)"
      ],
      "metadata": {
        "colab": {
          "base_uri": "https://localhost:8080/"
        },
        "id": "z_SXrV1Gah9G",
        "outputId": "81f7f299-aeb9-452a-d671-f49b2a0ab9a7"
      },
      "execution_count": null,
      "outputs": [
        {
          "output_type": "stream",
          "name": "stdout",
          "text": [
            "6.0\n",
            "1.0\n"
          ]
        }
      ]
    },
    {
      "cell_type": "code",
      "source": [
        "# Print our objective function value\n",
        "print (pulp.value(model.objective))"
      ],
      "metadata": {
        "colab": {
          "base_uri": "https://localhost:8080/"
        },
        "id": "nS4WDuWKawFx",
        "outputId": "86056fdc-5315-4a8f-9a69-68024bce2e0e"
      },
      "execution_count": null,
      "outputs": [
        {
          "output_type": "stream",
          "name": "stdout",
          "text": [
            "32500.0\n"
          ]
        }
      ]
    },
    {
      "cell_type": "code",
      "source": [
        "# Latihan 4x + 3y = 34\n",
        "import pulp"
      ],
      "metadata": {
        "id": "wUSVPnIpbHLn"
      },
      "execution_count": null,
      "outputs": []
    },
    {
      "cell_type": "code",
      "source": [
        "from pulp.constants import LpMinimize\n",
        "from pulp.pulp import LpProblem\n",
        "# Membuat objek masalah optimasi\n",
        "model = LpProblem(name=\"Pemecahan_Persamaan\", sense=LpMinimize)"
      ],
      "metadata": {
        "id": "7PpoYCxddXa1"
      },
      "execution_count": null,
      "outputs": []
    },
    {
      "cell_type": "code",
      "source": [
        "# Membuat objek masalah optimasi\n",
        "model = pulp.LpProblem(name=\"Pemecahan_Persamaan\", sense=LpMinimize)\n",
        "# Membuat variabel x dan y\n",
        "x = pulp.LpVariable(name=\"x\")\n",
        "y = pulp.LpVariable(name=\"y\")\n",
        "\n",
        "# Menambahkan batasan\n",
        "model += 4 * x + 3 * y == 34\n",
        "\n",
        "# Menyelesaikan masalah\n",
        "model.solve()\n",
        "\n",
        "# Menampilkan hasil\n",
        "print(\"Status:\", model.status)\n",
        "print(\"Nilai x =\", x.varValue)\n",
        "print(\"Nilai y =\", y.varValue)"
      ],
      "metadata": {
        "colab": {
          "base_uri": "https://localhost:8080/"
        },
        "id": "p8ShY0w8dNJl",
        "outputId": "9555cc06-e5e1-4ff9-b90a-ebb24bfaf127"
      },
      "execution_count": null,
      "outputs": [
        {
          "output_type": "stream",
          "name": "stdout",
          "text": [
            "Status: 1\n",
            "Nilai x = 8.5\n",
            "Nilai y = 0.0\n"
          ]
        }
      ]
    },
    {
      "cell_type": "code",
      "source": [
        "# Latihan 5X + y = 37\n",
        "import pulp"
      ],
      "metadata": {
        "id": "fWh00MB6gejW"
      },
      "execution_count": null,
      "outputs": []
    },
    {
      "cell_type": "code",
      "source": [
        "from pulp.constants import LpMinimize\n",
        "from pulp.pulp import LpProblem\n",
        "# Membuat objek masalah optimasi\n",
        "model = LpProblem(name=\"Pemecahan_Persamaan\", sense=LpMinimize)"
      ],
      "metadata": {
        "id": "4YWccBEjhJ7g"
      },
      "execution_count": null,
      "outputs": []
    },
    {
      "cell_type": "code",
      "source": [
        "# Membuat objek masalah optimasi\n",
        "model = pulp.LpProblem(name=\"Pemecahan_Persamaan\", sense=LpMinimize)\n",
        "\n",
        "# Membuat variabel x dan y\n",
        "x = pulp.LpVariable(name=\"x\")\n",
        "y = pulp.LpVariable(name=\"y\")\n",
        "\n",
        "# Menambahkan batasan\n",
        "model += 5 * x + y == 37\n",
        "\n",
        "# Menyelesaikan masalah\n",
        "model.solve()\n",
        "\n",
        "# Menampilkan hasil\n",
        "print(\"Status:\", model.status)\n",
        "print(\"Nilai x =\", x.varValue)\n",
        "print(\"Nilai y =\", y.varValue)"
      ],
      "metadata": {
        "colab": {
          "base_uri": "https://localhost:8080/"
        },
        "id": "j5srAvHshYvc",
        "outputId": "055abad6-a249-47b9-f3a2-9aa5eaba103f"
      },
      "execution_count": null,
      "outputs": [
        {
          "output_type": "stream",
          "name": "stdout",
          "text": [
            "Status: 1\n",
            "Nilai x = 7.4\n",
            "Nilai y = 0.0\n"
          ]
        }
      ]
    },
    {
      "cell_type": "code",
      "source": [
        "# latihan cerita 1\n",
        "model = pulp.LpProblem(\"Budi purchase problem\", pulp.LpMaximize)\n",
        "P = pulp.LpVariable('P', lowBound=0, cat='Integer')\n",
        "B = pulp.LpVariable('B', lowBound=0, cat='Integer')\n",
        "# objective function\n",
        "model += 2 * P + 3 * B, \"Total cost\"\n",
        "# constraints\n",
        "model += 3 * P + 4 * B == 11000, \"Constraint1\"\n",
        "model += 1 * P + 7 * B == 15000, \"Constraint2\"\n",
        "# solve our problem\n",
        "model.solve()\n",
        "optimal_P = P.value()\n",
        "optimal_B = B.value()\n",
        "cost = 2 * optimal_P + 6 * optimal_B\n",
        "# menampilkan hasil\n",
        "print(\"Total jumlah pensil: \", P.varValue)\n",
        "print(\"Total jumlah buku: \", B.varValue)\n",
        "print(\"Total membeli 2 pensil dan 6 buku adalah: \", cost)"
      ],
      "metadata": {
        "colab": {
          "base_uri": "https://localhost:8080/"
        },
        "id": "9ycfaRcJxF8K",
        "outputId": "d7308d91-7135-4759-d4ee-34c7612be033"
      },
      "execution_count": null,
      "outputs": [
        {
          "output_type": "stream",
          "name": "stdout",
          "text": [
            "Total jumlah pensil:  1000.0\n",
            "Total jumlah buku:  2000.0\n",
            "Total membeli 2 pensil dan 6 buku adalah:  14000.0\n"
          ]
        }
      ]
    },
    {
      "cell_type": "code",
      "source": [
        "# latihan cerita 2\n",
        "def cari_panjang_dan_lebar(keliling):\n",
        "  P = 44\n",
        "  L = 44 - 6\n",
        "\n",
        "  return P, L\n",
        "\n",
        "keliling_persegi_panjang = 44\n",
        "panjang, lebar = cari_panjang_dan_lebar(keliling_persegi_panjang)\n",
        "print(f\"panjang persegi panjang: {panjang} cm\")\n",
        "print(f\"lebar persegi panjang: {lebar} cm\")"
      ],
      "metadata": {
        "colab": {
          "base_uri": "https://localhost:8080/"
        },
        "id": "Rx8mIBryxM9R",
        "outputId": "a271ce0f-1591-4d02-bab2-a0cd395aae6c"
      },
      "execution_count": null,
      "outputs": [
        {
          "output_type": "stream",
          "name": "stdout",
          "text": [
            "panjang persegi panjang: 44 cm\n",
            "lebar persegi panjang: 38 cm\n"
          ]
        }
      ]
    },
    {
      "cell_type": "code",
      "source": [
        "# 1. Impor modul yang diperlukan dari scipy:\n",
        "\n",
        "from scipy.optimize import linprog\n",
        "\n",
        "# 2. Tentukan koefisien fungsi tujuan dan matriks batasan :\n",
        "\n",
        "# koefisien fungsi tujuan (Z = 5x1 + 7X2)\n",
        "C = [-5, -7] # Karena ingin \"memaksimalkan\" -5x1, maka perlu diubah menjadi \"-5\" dan \"-7\".\n",
        "\n",
        "# koefisien matriks batasan\n",
        "A=  [\n",
        "    [1, 0], # 1x1 + 0x2 <= 16\n",
        "    [2, 3], # 2x1 + 3x2 <= 19\n",
        "    [1, 1], # 1x1 + 1x2 <= 8\n",
        "]\n",
        "\n",
        "# Batasan kanan (rhs) dari masing-masing batasan\n",
        "b = [16, 19, 8]\n",
        "\n",
        "# 3. Tentukan batasan variable x1 dan x2 sebagai variable non_negatif:\n",
        "\n",
        "x1_bounds = (0, None) # x1 >= 0\n",
        "x2_bounds = (0, None) # x2 >= 0"
      ],
      "metadata": {
        "id": "i12jVlFVx543"
      },
      "execution_count": null,
      "outputs": []
    },
    {
      "cell_type": "code",
      "source": [
        "# 4. Gunakan linprog untuk menyelesaikan masalah pemograman linear:\n",
        "\n",
        "result = linprog(C, A_ub=A, b_ub=b, bounds=[x1_bounds, x2_bounds], method=\"highs\")\n",
        "\n",
        "# 5. Tampilkan hasilnya:\n",
        "\n",
        "# Hasil optimasi\n",
        "print(\"Optimal Solution:\")\n",
        "print(\"x1 =\", result.x[0])\n",
        "print(\"x2 =\", result.x[1])\n",
        "print(\"Max Z =\", -result.fun) # Karena tujuaannya adalah memaksimalkan -Z"
      ],
      "metadata": {
        "colab": {
          "base_uri": "https://localhost:8080/"
        },
        "id": "ucQY9OsL1yz7",
        "outputId": "a5fe899e-dc04-4b84-f0a4-beb6f2c2439d"
      },
      "execution_count": null,
      "outputs": [
        {
          "output_type": "stream",
          "name": "stdout",
          "text": [
            "Optimal Solution:\n",
            "x1 = 5.0\n",
            "x2 = 3.0\n",
            "Max Z = 46.0\n"
          ]
        }
      ]
    },
    {
      "cell_type": "code",
      "source": [
        "# Latihan dengan scipy 1\n",
        "from scipy.optimize import linprog\n",
        "\n",
        "# Koefisien objektif untuk memaksimalkan\n",
        "c = [-1, -1]\n",
        "\n",
        "# Batasan persamaan\n",
        "A = [[4, 12]]\n",
        "b = [28]\n",
        "\n",
        "# Batasan variabel non-negatif\n",
        "x_bounds = (0, None)\n",
        "y_bounds = (0, None)\n",
        "\n",
        "# Solusi linear programming\n",
        "result = linprog(c, A_eq=A, b_eq=b, bounds=[x_bounds, y_bounds], method='highs')\n",
        "\n",
        "# Output hasil\n",
        "x = result.x[0]\n",
        "y = result.x[1]\n",
        "\n",
        "print(f\"Nilai x: {x}\")\n",
        "print(f\"Nilai y: {y}\")"
      ],
      "metadata": {
        "colab": {
          "base_uri": "https://localhost:8080/"
        },
        "id": "ofkuRLlM2Y_e",
        "outputId": "28801449-7e4f-46de-af86-d747caacf80d"
      },
      "execution_count": null,
      "outputs": [
        {
          "output_type": "stream",
          "name": "stdout",
          "text": [
            "Nilai x: 7.0\n",
            "Nilai y: 0.0\n"
          ]
        }
      ]
    },
    {
      "cell_type": "code",
      "source": [
        "# Latihan dengan scipy 2\n",
        "from scipy.optimize import linprog\n",
        "\n",
        "# Koefisien objektif untuk memaksimalkan (dalam kasus ini hanya target)\n",
        "c = [-1, -1]\n",
        "\n",
        "# Batasan persamaan\n",
        "A_eq = [[2, 1]]  # Koefisien persamaan\n",
        "b_eq = [21]      # Hasil persamaan\n",
        "\n",
        "# Batasan variabel non-negatif\n",
        "x_bounds = (0, None)  # x >= 0\n",
        "y_bounds = (0, None)  # y >= 0\n",
        "\n",
        "# Solusi linear programming\n",
        "result = linprog(c, A_eq=A_eq, b_eq=b_eq, bounds=[x_bounds, y_bounds], method='highs')\n",
        "\n",
        "# Output hasil\n",
        "x = result.x[0]\n",
        "y = result.x[1]\n",
        "\n",
        "print(f\"Nilai x: {x}\")\n",
        "print(f\"Nilai y: {y}\")"
      ],
      "metadata": {
        "colab": {
          "base_uri": "https://localhost:8080/"
        },
        "id": "fDQRMo4X3Ndg",
        "outputId": "45b7e4bf-ad95-4f16-f01d-c43d2a91303e"
      },
      "execution_count": null,
      "outputs": [
        {
          "output_type": "stream",
          "name": "stdout",
          "text": [
            "Nilai x: 0.0\n",
            "Nilai y: 21.0\n"
          ]
        }
      ]
    },
    {
      "cell_type": "code",
      "source": [
        "# Latihan dengan scipy 3\n",
        "from scipy.optimize import linprog\n",
        "\n",
        "# Koefisien matriks persamaan (koefisien x dan y)\n",
        "A = [[3, 4], [1, 1]]\n",
        "\n",
        "# Batas (kanan) persamaan (55 tas, 16 jam)\n",
        "b = [55, 16]\n",
        "\n",
        "# Batas variabel x dan y (tidak negatif)\n",
        "x_bounds = (0, None)\n",
        "y_bounds = (0, None)\n",
        "\n",
        "# Menyelesaikan persamaan linear\n",
        "result = linprog(c=[-1, -1], A_ub=A, b_ub=b, bounds=[x_bounds, y_bounds])\n",
        "\n",
        "# Hasilnya\n",
        "jam_kerja_lisa = result.x[0]\n",
        "jam_kerja_muri = result.x[1]\n",
        "\n",
        "print(f\"Jam kerja Lisa: {jam_kerja_lisa} jam\")\n",
        "print(f\"Jam kerja Muri: {jam_kerja_muri} jam\")"
      ],
      "metadata": {
        "colab": {
          "base_uri": "https://localhost:8080/"
        },
        "id": "4bXLKoQB3SUz",
        "outputId": "a31d99aa-ad13-44b4-d4fb-9ac5d2da31c6"
      },
      "execution_count": null,
      "outputs": [
        {
          "output_type": "stream",
          "name": "stdout",
          "text": [
            "Jam kerja Lisa: 9.000000000000002 jam\n",
            "Jam kerja Muri: 6.999999999999998 jam\n"
          ]
        }
      ]
    }
  ]
}