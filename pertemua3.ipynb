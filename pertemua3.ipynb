{
  "nbformat": 4,
  "nbformat_minor": 0,
  "metadata": {
    "colab": {
      "provenance": [],
      "authorship_tag": "ABX9TyOqS92zU2+6jmO0RcSKm/KA",
      "include_colab_link": true
    },
    "kernelspec": {
      "name": "python3",
      "display_name": "Python 3"
    },
    "language_info": {
      "name": "python"
    }
  },
  "cells": [
    {
      "cell_type": "markdown",
      "metadata": {
        "id": "view-in-github",
        "colab_type": "text"
      },
      "source": [
        "<a href=\"https://colab.research.google.com/github/baiqtiara/baiqtiara/blob/main/pertemua3.ipynb\" target=\"_parent\"><img src=\"https://colab.research.google.com/assets/colab-badge.svg\" alt=\"Open In Colab\"/></a>"
      ]
    },
    {
      "cell_type": "code",
      "execution_count": 3,
      "metadata": {
        "colab": {
          "base_uri": "https://localhost:8080/"
        },
        "id": "fNYjtf_g151C",
        "outputId": "f0c2c107-cc7e-495d-db4b-168175e2148b"
      },
      "outputs": [
        {
          "output_type": "stream",
          "name": "stdout",
          "text": [
            "['John', 33, 'Toronto', True]\n"
          ]
        }
      ],
      "source": [
        "aList = [\"John\", 33,\"Toronto\", True]\n",
        "print(aList)"
      ]
    },
    {
      "cell_type": "code",
      "source": [
        "import datetime\n",
        "x = datetime.datetime.now()\n",
        "print(x)"
      ],
      "metadata": {
        "colab": {
          "base_uri": "https://localhost:8080/"
        },
        "id": "rfjyqZPG2pxc",
        "outputId": "93822e5b-939c-40fd-bfbe-9c7676f2606d"
      },
      "execution_count": 6,
      "outputs": [
        {
          "output_type": "stream",
          "name": "stdout",
          "text": [
            "2023-09-11 06:11:54.987089\n"
          ]
        }
      ]
    },
    {
      "cell_type": "code",
      "source": [
        "import datetime\n",
        "Mahasiswa = [\"Tiara\", 2022071079, \"Informatika\", \"Desain and analisis algoritma\", datetime.date.today(), \"Universitas pembangunan jaya\"]\n",
        "print(Mahasiswa)"
      ],
      "metadata": {
        "colab": {
          "base_uri": "https://localhost:8080/"
        },
        "id": "roOrzKfF4kzE",
        "outputId": "898b9706-0951-4ad4-dde8-e1ed6894b452"
      },
      "execution_count": 23,
      "outputs": [
        {
          "output_type": "stream",
          "name": "stdout",
          "text": [
            "['Tiara', 2022071079, 'Informatika', 'Desain and analisis algoritma', datetime.date(2023, 9, 11), 'Universitas pembangunan jaya']\n"
          ]
        }
      ]
    },
    {
      "cell_type": "code",
      "source": [
        "bin_colors=[\"Blue\",\"Red\",\"Grey\",\"Yellow\"]\n",
        "bin_colors[2]"
      ],
      "metadata": {
        "id": "ArjH5Wcr9QQr",
        "outputId": "6477d03f-ed30-4a5e-f23c-5c1825ec34b9",
        "colab": {
          "base_uri": "https://localhost:8080/",
          "height": 36
        }
      },
      "execution_count": 15,
      "outputs": [
        {
          "output_type": "execute_result",
          "data": {
            "text/plain": [
              "'Grey'"
            ],
            "application/vnd.google.colaboratory.intrinsic+json": {
              "type": "string"
            }
          },
          "metadata": {},
          "execution_count": 15
        }
      ]
    },
    {
      "cell_type": "code",
      "source": [
        "bin_colors=['Blue','Red','Grey','Yellow']\n",
        "bin_colors[1:2]"
      ],
      "metadata": {
        "id": "7pV2N181AyX-",
        "outputId": "7f4f370f-a0fd-4605-982c-a6bbe240a8c1",
        "colab": {
          "base_uri": "https://localhost:8080/"
        }
      },
      "execution_count": 16,
      "outputs": [
        {
          "output_type": "execute_result",
          "data": {
            "text/plain": [
              "['Red']"
            ]
          },
          "metadata": {},
          "execution_count": 16
        }
      ]
    },
    {
      "cell_type": "code",
      "source": [
        "Mahasiswa=[\"Tiara\", 2022071079, \"informatika\", \"Desain and analisis algoritma\", datetime.datetime.now(), \"Universitas Pembangunan Jaya\"]\n",
        "Mahasiswa[0:1]\n"
      ],
      "metadata": {
        "id": "GTGPQgOvDbDx",
        "outputId": "cc2c037c-9ff0-40c9-cc63-ad4060378300",
        "colab": {
          "base_uri": "https://localhost:8080/"
        }
      },
      "execution_count": 28,
      "outputs": [
        {
          "output_type": "execute_result",
          "data": {
            "text/plain": [
              "['Tiara']"
            ]
          },
          "metadata": {},
          "execution_count": 28
        }
      ]
    },
    {
      "cell_type": "code",
      "source": [
        "Mahasiswa=[\"Tiara\", 2022071079, \"informatika\", \"Desain and analisis algoritma\", datetime.datetime.now(), \"Universitas Pembangunan Jaya\"]\n",
        "Mahasiswa[1:2]\n"
      ],
      "metadata": {
        "id": "GS3rHFd0HiXK",
        "outputId": "89311ebb-9400-4036-de97-47520a07fe7b",
        "colab": {
          "base_uri": "https://localhost:8080/"
        }
      },
      "execution_count": 30,
      "outputs": [
        {
          "output_type": "execute_result",
          "data": {
            "text/plain": [
              "[2022071079]"
            ]
          },
          "metadata": {},
          "execution_count": 30
        }
      ]
    },
    {
      "cell_type": "code",
      "source": [
        "Mahasiswa=[\"Tiara\", 2022071079, \"informatika\", \"Desain and analisis algoritma\", datetime.datetime.now(), \"Universitas Pembangunan Jaya\"]\n",
        "Mahasiswa[2:3]\n"
      ],
      "metadata": {
        "id": "0vCPaRpeHszj",
        "outputId": "de0c7baf-7368-42f6-f87b-b6b5caecd526",
        "colab": {
          "base_uri": "https://localhost:8080/"
        }
      },
      "execution_count": 43,
      "outputs": [
        {
          "output_type": "execute_result",
          "data": {
            "text/plain": [
              "['informatika']"
            ]
          },
          "metadata": {},
          "execution_count": 43
        }
      ]
    },
    {
      "cell_type": "code",
      "source": [
        "Mahasiswa=[\"Tiara\", 2022071079, \"informatika\", \"Desain and analisis algoritma\", datetime.datetime.now(), \"Universitas Pembangunan Jaya\"]\n",
        "Mahasiswa[3:4]\n"
      ],
      "metadata": {
        "id": "3gsicdv1HyqS",
        "outputId": "dbbb45d2-d4c0-4f4a-b796-9e3258f71d45",
        "colab": {
          "base_uri": "https://localhost:8080/"
        }
      },
      "execution_count": 45,
      "outputs": [
        {
          "output_type": "execute_result",
          "data": {
            "text/plain": [
              "['Desain and analisis algoritma']"
            ]
          },
          "metadata": {},
          "execution_count": 45
        }
      ]
    },
    {
      "cell_type": "code",
      "source": [
        "Mahasiswa=[\"Tiara\", 2022071079, \"informatika\", \"Desain and analisis algoritma\", datetime.datetime.now(), \"Universitas Pembangunan Jaya\"]\n",
        "Mahasiswa[4:5]\n"
      ],
      "metadata": {
        "id": "6lVgomCwH7aw",
        "outputId": "fb5f4ff4-2004-4860-f6cc-3a09ca3b4df5",
        "colab": {
          "base_uri": "https://localhost:8080/"
        }
      },
      "execution_count": 48,
      "outputs": [
        {
          "output_type": "execute_result",
          "data": {
            "text/plain": [
              "[datetime.datetime(2023, 9, 11, 7, 31, 31, 940348)]"
            ]
          },
          "metadata": {},
          "execution_count": 48
        }
      ]
    },
    {
      "cell_type": "code",
      "source": [
        "Mahasiswa=[\"Tiara\", 2022071079, \"informatika\", \"Desain and analisis algoritma\", datetime.datetime.now(), \"Universitas Pembangunan Jaya\"]\n",
        "Mahasiswa[5:6]\n"
      ],
      "metadata": {
        "id": "D6_59AYIJzsR",
        "outputId": "d51ae550-84d5-42db-dc45-8af615d33d8c",
        "colab": {
          "base_uri": "https://localhost:8080/"
        }
      },
      "execution_count": 49,
      "outputs": [
        {
          "output_type": "execute_result",
          "data": {
            "text/plain": [
              "['Universitas Pembangunan Jaya']"
            ]
          },
          "metadata": {},
          "execution_count": 49
        }
      ]
    },
    {
      "cell_type": "code",
      "source": [
        "bin_colors=['Red','Green','Blue', 'Yellow']\n",
        "for aColor in bin_colors:\n",
        "  print ( \"Square \" + aColor)\n"
      ],
      "metadata": {
        "id": "txiexXN9KkKt",
        "outputId": "3519df73-24be-4f8e-d334-7012621186e9",
        "colab": {
          "base_uri": "https://localhost:8080/"
        }
      },
      "execution_count": 5,
      "outputs": [
        {
          "output_type": "stream",
          "name": "stdout",
          "text": [
            "Square Red\n",
            "Square Green\n",
            "Square Blue\n",
            "Square Yellow\n"
          ]
        }
      ]
    },
    {
      "cell_type": "code",
      "source": [
        "Mahasiswa=[\"Tiara\", \"Informartika\", \"Desain and analisis algoritma\", \"Universitas Pembangunan Jaya\"]\n",
        "for aMahasiswa in Mahasiswa:\n",
        "  print(\"Universitas Pembangunan Jaya \" + aMahasiswa)"
      ],
      "metadata": {
        "id": "-UI6D0UsMc7I",
        "outputId": "37c17f88-3d1f-4c80-d6f8-87e7c6e80b5d",
        "colab": {
          "base_uri": "https://localhost:8080/"
        }
      },
      "execution_count": 15,
      "outputs": [
        {
          "output_type": "stream",
          "name": "stdout",
          "text": [
            "Universitas Pembangunan Jaya Tiara\n",
            "Universitas Pembangunan Jaya Informartika\n",
            "Universitas Pembangunan Jaya Desain and analisis algoritma\n",
            "Universitas Pembangunan Jaya Universitas Pembangunan Jaya\n"
          ]
        }
      ]
    },
    {
      "cell_type": "code",
      "source": [
        "bin_colors=('Red','Green','Blue','Yellow')\n",
        "bin_colors[1]\n"
      ],
      "metadata": {
        "id": "wCPGwGSLPJlu",
        "outputId": "62813b7d-3c4d-4333-a552-4b162caff029",
        "colab": {
          "base_uri": "https://localhost:8080/",
          "height": 36
        }
      },
      "execution_count": 17,
      "outputs": [
        {
          "output_type": "execute_result",
          "data": {
            "text/plain": [
              "'Green'"
            ],
            "application/vnd.google.colaboratory.intrinsic+json": {
              "type": "string"
            }
          },
          "metadata": {},
          "execution_count": 17
        }
      ]
    },
    {
      "cell_type": "code",
      "source": [
        "bin_colors=('Red','Green','Blue','Yellow')\n",
        "bin_colors[1:]"
      ],
      "metadata": {
        "id": "vAB9QARyPlGZ",
        "outputId": "70d552e4-f5dc-4dc0-af0f-047c3e6bc279",
        "colab": {
          "base_uri": "https://localhost:8080/"
        }
      },
      "execution_count": 37,
      "outputs": [
        {
          "output_type": "execute_result",
          "data": {
            "text/plain": [
              "('Green', 'Blue', 'Yellow')"
            ]
          },
          "metadata": {},
          "execution_count": 37
        }
      ]
    },
    {
      "cell_type": "code",
      "source": [
        "UPJ=('Universitas', 'Pembangunan', 'Jaya')\n",
        "UPJ[1:2]"
      ],
      "metadata": {
        "id": "lLW6pI3iQLbx",
        "outputId": "dda15051-3f9b-4425-9aeb-1c216e31fe99",
        "colab": {
          "base_uri": "https://localhost:8080/"
        }
      },
      "execution_count": 30,
      "outputs": [
        {
          "output_type": "execute_result",
          "data": {
            "text/plain": [
              "('Pembangunan',)"
            ]
          },
          "metadata": {},
          "execution_count": 30
        }
      ]
    },
    {
      "cell_type": "code",
      "source": [
        "hariAwal = (\"senin\",\"selasa\",\"rabu\")\n",
        "hariAkhir = (\"kamis\",\"jumat\",\"sabtu\")\n",
        "\n",
        "hari = (hariAwal, hariAkhir)\n",
        "print(hari)"
      ],
      "metadata": {
        "id": "QTwcQ_1fRjXL",
        "outputId": "d81b67b6-ceda-424a-81b4-6de984955c1b",
        "colab": {
          "base_uri": "https://localhost:8080/"
        }
      },
      "execution_count": 42,
      "outputs": [
        {
          "output_type": "stream",
          "name": "stdout",
          "text": [
            "(('senin', 'selasa', 'rabu'), ('kamis', 'jumat', 'sabtu'))\n"
          ]
        }
      ]
    },
    {
      "cell_type": "code",
      "source": [
        "Nested_tuple = (\"pertama\",\"kedua\",\"ketiga\",\"keempat\")\n",
        "Nested_nilai = (\"100\",\"200:400:600\",\"300\", \"400:800\")\n",
        "\n",
        "print(Nested_tuple, Nested_nilai)"
      ],
      "metadata": {
        "id": "2BcRRzJhUkmM",
        "outputId": "09b8a033-29e6-4399-9bc9-9d545663b2ac",
        "colab": {
          "base_uri": "https://localhost:8080/"
        }
      },
      "execution_count": 7,
      "outputs": [
        {
          "output_type": "stream",
          "name": "stdout",
          "text": [
            "('pertama', 'kedua', 'ketiga', 'keempat') ('100', '200:400:600', '300', '400:800')\n"
          ]
        }
      ]
    },
    {
      "cell_type": "code",
      "source": [
        "bin_colors ={\n",
        "\"manua_color\": \"Yellow\",\n",
        "\"approved_color\": \"Green\",\n",
        "\"refused_color\": \"Red\"\n",
        "}\n",
        "print(bin_colors)"
      ],
      "metadata": {
        "id": "Sl4WMbRIXqMc",
        "outputId": "0cf95a46-3166-408c-dcef-e36adc57369f",
        "colab": {
          "base_uri": "https://localhost:8080/"
        }
      },
      "execution_count": 8,
      "outputs": [
        {
          "output_type": "stream",
          "name": "stdout",
          "text": [
            "{'manua_color': 'Yellow', 'approved_color': 'Green', 'refused_color': 'Red'}\n"
          ]
        }
      ]
    },
    {
      "cell_type": "code",
      "source": [
        "bin_colors.get('approved_color')\n",
        "bin_colors['approved_color']\n",
        "'Green'"
      ],
      "metadata": {
        "id": "776n0nvNZtPK",
        "outputId": "28dc8c68-0375-4020-e6b8-85f9e7cb842b",
        "colab": {
          "base_uri": "https://localhost:8080/",
          "height": 36
        }
      },
      "execution_count": 14,
      "outputs": [
        {
          "output_type": "execute_result",
          "data": {
            "text/plain": [
              "'Green'"
            ],
            "application/vnd.google.colaboratory.intrinsic+json": {
              "type": "string"
            }
          },
          "metadata": {},
          "execution_count": 14
        }
      ]
    },
    {
      "cell_type": "code",
      "source": [
        "bin_colors['approved_color']=\"Purple\"\n",
        "print(bin_colors)\n",
        "{'manual_color': 'Yellow', 'approved_color': 'Purple',\n",
        "'refused_color': 'Red'}"
      ],
      "metadata": {
        "id": "t0T54SL3bAB4",
        "outputId": "0ed7928a-a633-4f89-b845-cf8adbfcf251",
        "colab": {
          "base_uri": "https://localhost:8080/"
        }
      },
      "execution_count": 15,
      "outputs": [
        {
          "output_type": "stream",
          "name": "stdout",
          "text": [
            "{'manua_color': 'Yellow', 'approved_color': 'Purple', 'refused_color': 'Red'}\n"
          ]
        },
        {
          "output_type": "execute_result",
          "data": {
            "text/plain": [
              "{'manual_color': 'Yellow', 'approved_color': 'Purple', 'refused_color': 'Red'}"
            ]
          },
          "metadata": {},
          "execution_count": 15
        }
      ]
    },
    {
      "cell_type": "code",
      "source": [
        "Mahasiswa={\"Nama\": \"BaiqTiara\" , \"NIM\": \"2022071079\" , \"Prodi\": \"informatika\" ,  \"Universitas\": \"UPJ\"}\n",
        "print(Mahasiswa)"
      ],
      "metadata": {
        "id": "nUcnFQ5Nb6t-",
        "outputId": "8b0f143e-6e89-43b4-9af3-b91009f3c984",
        "colab": {
          "base_uri": "https://localhost:8080/"
        }
      },
      "execution_count": 1,
      "outputs": [
        {
          "output_type": "stream",
          "name": "stdout",
          "text": [
            "{'Nama': 'BaiqTiara', 'NIM': '2022071079', 'Prodi': 'informatika', 'Universitas': 'UPJ'}\n"
          ]
        }
      ]
    },
    {
      "cell_type": "code",
      "source": [],
      "metadata": {
        "id": "BLt_rWLleneQ"
      },
      "execution_count": null,
      "outputs": []
    }
  ]
}