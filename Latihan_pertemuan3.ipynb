{
  "nbformat": 4,
  "nbformat_minor": 0,
  "metadata": {
    "colab": {
      "provenance": [],
      "authorship_tag": "ABX9TyOy6CM3Aao/GYd6isuYJI1V",
      "include_colab_link": true
    },
    "kernelspec": {
      "name": "python3",
      "display_name": "Python 3"
    },
    "language_info": {
      "name": "python"
    }
  },
  "cells": [
    {
      "cell_type": "markdown",
      "metadata": {
        "id": "view-in-github",
        "colab_type": "text"
      },
      "source": [
        "<a href=\"https://colab.research.google.com/github/baiqtiara/baiqtiara/blob/main/Latihan_pertemuan3.ipynb\" target=\"_parent\"><img src=\"https://colab.research.google.com/assets/colab-badge.svg\" alt=\"Open In Colab\"/></a>"
      ]
    },
    {
      "cell_type": "code",
      "execution_count": 39,
      "metadata": {
        "colab": {
          "base_uri": "https://localhost:8080/"
        },
        "id": "Oi05wLbKC9wA",
        "outputId": "e1dd9424-3307-434f-e8fd-e48a1c56b959"
      },
      "outputs": [
        {
          "output_type": "stream",
          "name": "stdout",
          "text": [
            "['Tiara', 2022071079, 'Informatika', 'Desain and analisis algoritma', datetime.date(2023, 9, 16), 'Universitas pembangunan jaya']\n"
          ]
        }
      ],
      "source": [
        "#slide 6 Buatlah list dengan nama \"Mahasiswa\" yang berisi Nama, NIM, Prodi, Mata Kuliah, Tanggal hari ini, nama Universitas\n",
        "\n",
        "import datetime\n",
        "Mahasiswa = [\"Tiara\", 2022071079, \"Informatika\", \"Desain and analisis algoritma\", datetime.date.today(), \"Universitas pembangunan jaya\"]\n",
        "print(Mahasiswa)\n",
        ""
      ]
    },
    {
      "cell_type": "code",
      "source": [
        "#slide 8 Cetak NIM masing-masing dengan memanggil urutan indeks dalam list \"Mahasiswa\"!\n",
        "\n",
        "Mahasiswa=[\"Tiara\", 2022071079, \"informatika\", \"Desain and analisis algoritma\", datetime.datetime.now(), \"Universitas Pembangunan Jaya\"]\n",
        "Mahasiswa[1:2]"
      ],
      "metadata": {
        "colab": {
          "base_uri": "https://localhost:8080/"
        },
        "id": "2XNNM9pGE5AA",
        "outputId": "292ea3fe-5679-4a7e-e057-1d4109bb9c0d"
      },
      "execution_count": 40,
      "outputs": [
        {
          "output_type": "execute_result",
          "data": {
            "text/plain": [
              "[2022071079]"
            ]
          },
          "metadata": {},
          "execution_count": 40
        }
      ]
    },
    {
      "cell_type": "code",
      "source": [
        "#slide 9\n",
        "\n",
        "Mahasiswa=[\"Tiara\", 2022071079, \"informatika\", \"Desain and analisis algoritma\", datetime.datetime.now(), \"Universitas Pembangunan Jaya\"]\n",
        "Mahasiswa[5:6]\n"
      ],
      "metadata": {
        "colab": {
          "base_uri": "https://localhost:8080/"
        },
        "id": "hW3SpJ2iFCMK",
        "outputId": "04bdb98b-6436-4791-e9ad-8731fa3bf113"
      },
      "execution_count": 45,
      "outputs": [
        {
          "output_type": "execute_result",
          "data": {
            "text/plain": [
              "['Universitas Pembangunan Jaya']"
            ]
          },
          "metadata": {},
          "execution_count": 45
        }
      ]
    },
    {
      "cell_type": "code",
      "source": [
        "#slide 11 Cetak NIM dan Prodi menggunakan slicing!\n",
        "\n",
        "Mahasiswa=[\"Tiara\", 2022071079, \"informatika\", \"Desain and analisis algoritma\", datetime.datetime.now(), \"Universitas Pembangunan Jaya\"]\n",
        "Mahasiswa[1:2]\n",
        "\n",
        "\n",
        "[2022071079]"
      ],
      "metadata": {
        "colab": {
          "base_uri": "https://localhost:8080/"
        },
        "id": "oM44lN0jIBI9",
        "outputId": "0beeceff-15d8-4293-9913-d496cf32a918"
      },
      "execution_count": 46,
      "outputs": [
        {
          "output_type": "execute_result",
          "data": {
            "text/plain": [
              "[2022071079]"
            ]
          },
          "metadata": {},
          "execution_count": 46
        }
      ]
    },
    {
      "cell_type": "code",
      "source": [
        "#slide 11 Cetak NIM dan Prodi menggunakan slicing!\n",
        "\n",
        "Mahasiswa=[\"Tiara\", 2022071079, \"informatika\", \"Desain and analisis algoritma\", datetime.datetime.now(), \"Universitas Pembangunan Jaya\"]\n",
        "Mahasiswa[2:3]\n"
      ],
      "metadata": {
        "colab": {
          "base_uri": "https://localhost:8080/"
        },
        "id": "PKqqswSNIEfX",
        "outputId": "ab19a52b-0472-4881-ab1a-b968a1b6c653"
      },
      "execution_count": 47,
      "outputs": [
        {
          "output_type": "execute_result",
          "data": {
            "text/plain": [
              "['informatika']"
            ]
          },
          "metadata": {},
          "execution_count": 47
        }
      ]
    },
    {
      "cell_type": "code",
      "source": [
        "#slide 13 Cetak isi list \"Mahasiswa\" tambahkan kata \"UPJ\" di depan!\n",
        "\n",
        "Mahasiswa=[\"Tiara\", \"Informartika\", \"Desain and analisis algoritma\", \"Universitas Pembangunan Jaya\"]\n",
        "for aMahasiswa in Mahasiswa:\n",
        "  print(\"Universitas Pembangunan Jaya \" + aMahasiswa)\n",
        ""
      ],
      "metadata": {
        "colab": {
          "base_uri": "https://localhost:8080/"
        },
        "id": "6S0Fudb3If50",
        "outputId": "a8e46173-a747-474e-b3dc-b5e027ef7d77"
      },
      "execution_count": 48,
      "outputs": [
        {
          "output_type": "stream",
          "name": "stdout",
          "text": [
            "Universitas Pembangunan Jaya Tiara\n",
            "Universitas Pembangunan Jaya Informartika\n",
            "Universitas Pembangunan Jaya Desain and analisis algoritma\n",
            "Universitas Pembangunan Jaya Universitas Pembangunan Jaya\n"
          ]
        }
      ]
    },
    {
      "cell_type": "code",
      "source": [
        "#slide 15 Susun Tuple bernama \"UPJ\", isi dengan Universitas, Pembangunan, Jaya\n",
        "\n",
        "UPJ=('Universitas', 'Pembangunan', 'Jaya')\n",
        "UPJ[1:2]\n",
        ""
      ],
      "metadata": {
        "colab": {
          "base_uri": "https://localhost:8080/"
        },
        "id": "oNLTvc1cIiWm",
        "outputId": "c85b6406-a8f0-457d-e574-e3d3f90761da"
      },
      "execution_count": 49,
      "outputs": [
        {
          "output_type": "execute_result",
          "data": {
            "text/plain": [
              "('Pembangunan',)"
            ]
          },
          "metadata": {},
          "execution_count": 49
        }
      ]
    },
    {
      "cell_type": "code",
      "source": [
        "#slide 17 Buat Tuple bersarang bernama \"nested_tuple\" dengan nilai : pertama=100 kedua=200,400,600 ketiga=300 keempat=400,800\n",
        "\n",
        "Nested_tuple = (\"pertama\",\"kedua\",\"ketiga\",\"keempat\")\n",
        "Nested_nilai = (\"100\",\"200,400,600\",\"300\", \"400,800\")\n",
        "\n",
        "print(Nested_tuple, Nested_nilai)"
      ],
      "metadata": {
        "colab": {
          "base_uri": "https://localhost:8080/"
        },
        "id": "PWYvFUBXIsCh",
        "outputId": "dd3263da-8b0f-453a-c2d4-cdc1bfb9a323"
      },
      "execution_count": 50,
      "outputs": [
        {
          "output_type": "stream",
          "name": "stdout",
          "text": [
            "('pertama', 'kedua', 'ketiga', 'keempat') ('100', '200,400,600', '300', '400,800')\n"
          ]
        }
      ]
    },
    {
      "cell_type": "code",
      "source": [
        "#slide 21\n",
        "\n",
        "Mahasiswa={\"Nama\": \"BaiqTiara\" , \"NIM\": \"2022071079\" , \"Prodi\": \"informatika\" ,  \"Universitas\": \"UPJ\"}\n",
        "print(Mahasiswa)\n",
        ""
      ],
      "metadata": {
        "colab": {
          "base_uri": "https://localhost:8080/"
        },
        "id": "BygoflCKJGoa",
        "outputId": "7acdadb1-55d3-4976-d808-289d960ece73"
      },
      "execution_count": 51,
      "outputs": [
        {
          "output_type": "stream",
          "name": "stdout",
          "text": [
            "{'Nama': 'BaiqTiara', 'NIM': '2022071079', 'Prodi': 'informatika', 'Universitas': 'UPJ'}\n"
          ]
        }
      ]
    },
    {
      "cell_type": "code",
      "source": [
        "#slide 34\n",
        "\n",
        "#>>>yellow|red {'dandelions','fire hydrant','blood','rose','leaves'}\n",
        "#>>>yellow&red {'leaves','firehydrant'}\n",
        "yellow = {'dandelions','fire hydrant','leaves'}\n",
        "red = {'leaves', 'fire hydrant','rose','blood'}\n",
        "print(yellow|red)\n",
        "print(yellow&red)"
      ],
      "metadata": {
        "colab": {
          "base_uri": "https://localhost:8080/"
        },
        "id": "Z4S2pgRnJaeB",
        "outputId": "184c8f7e-d458-4003-8e31-8cda32e45279"
      },
      "execution_count": 52,
      "outputs": [
        {
          "output_type": "stream",
          "name": "stdout",
          "text": [
            "{'rose', 'blood', 'leaves', 'fire hydrant', 'dandelions'}\n",
            "{'leaves', 'fire hydrant'}\n"
          ]
        }
      ]
    },
    {
      "cell_type": "code",
      "source": [
        "#slide 41\n",
        "\n",
        "data={\n",
        "    \"no\":[1,2,3],\n",
        "    \"prodi\": [\"informatika\",\"Sistem informasi\",\"Teknik Sipil\"],\n",
        "    \"Mahasiswa\": [50 ,55 ,40],\n",
        "    \"lakilaki\": [30,30,30],\n",
        "    \"Perempuan\" : [20,25,10]\n",
        "}\n",
        "df = (\"data, index = ['-','-','-']\")\n",
        "print(df)"
      ],
      "metadata": {
        "colab": {
          "base_uri": "https://localhost:8080/"
        },
        "id": "mV_osS_mQpPx",
        "outputId": "7b4a8c54-4d7a-4b93-db8e-9cf4c5d3b3f1"
      },
      "execution_count": 53,
      "outputs": [
        {
          "output_type": "stream",
          "name": "stdout",
          "text": [
            "data, index = ['-','-','-']\n"
          ]
        }
      ]
    },
    {
      "cell_type": "code",
      "source": [
        "#slide 44 Buatlah matrix & transpose matriks\n",
        "import numpy as np\n",
        "matriksA = np.array ([[100,200,300],\n",
        "                      [700,600,500],\n",
        "                      [900,1000,800]])\n",
        "\n",
        "print(\"matriks A:\")\n",
        "print(matriksA)\n",
        "\n",
        "transpose_matriks = np.transpose(matriksA)\n",
        "\n",
        "print(\"Transpose Matriks A:\")\n",
        "print(transpose_matriks)"
      ],
      "metadata": {
        "colab": {
          "base_uri": "https://localhost:8080/"
        },
        "id": "_rP-R6IKR4pL",
        "outputId": "52602e0f-f930-4d84-bda1-2c1bd15c4412"
      },
      "execution_count": 54,
      "outputs": [
        {
          "output_type": "stream",
          "name": "stdout",
          "text": [
            "matriks A:\n",
            "[[ 100  200  300]\n",
            " [ 700  600  500]\n",
            " [ 900 1000  800]]\n",
            "Transpose Matriks A:\n",
            "[[ 100  700  900]\n",
            " [ 200  600 1000]\n",
            " [ 300  500  800]]\n"
          ]
        }
      ]
    }
  ]
}