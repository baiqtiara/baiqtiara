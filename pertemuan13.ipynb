{
  "nbformat": 4,
  "nbformat_minor": 0,
  "metadata": {
    "colab": {
      "provenance": [],
      "authorship_tag": "ABX9TyOdrp2znsyazTBvyRG1+64E",
      "include_colab_link": true
    },
    "kernelspec": {
      "name": "python3",
      "display_name": "Python 3"
    },
    "language_info": {
      "name": "python"
    }
  },
  "cells": [
    {
      "cell_type": "markdown",
      "metadata": {
        "id": "view-in-github",
        "colab_type": "text"
      },
      "source": [
        "<a href=\"https://colab.research.google.com/github/baiqtiara/baiqtiara/blob/main/pertemuan13.ipynb\" target=\"_parent\"><img src=\"https://colab.research.google.com/assets/colab-badge.svg\" alt=\"Open In Colab\"/></a>"
      ]
    },
    {
      "cell_type": "code",
      "execution_count": 8,
      "metadata": {
        "id": "I48SIwxlZ8Cy"
      },
      "outputs": [],
      "source": [
        "def bfs(graph,start):\n",
        "  visited=[]\n",
        "  queue = []\n",
        "  queue = [start]\n",
        "  while queue:\n",
        "    node = queue.pop(0)\n",
        "    if node not in visited:\n",
        "      visited.append(node)\n",
        "      neighbours = graph[node]\n",
        "      for neighbour in neighbours:\n",
        "        queue.append(neighbour)\n",
        "  return visited"
      ]
    },
    {
      "cell_type": "code",
      "source": [
        "graph = {'amin' : ['wasim','nick','mike'],\n",
        "         'wasim' : ['imran','amin'],\n",
        "         'imran' : ['wasim','faras'],\n",
        "         'faras' : ['imran'],\n",
        "         'mike' : ['amin'],\n",
        "         'nick' : ['amin']\n",
        "        }"
      ],
      "metadata": {
        "id": "Yq9336J6amhW"
      },
      "execution_count": 9,
      "outputs": []
    },
    {
      "cell_type": "code",
      "source": [
        "bfs(graph,'amin')"
      ],
      "metadata": {
        "id": "42mfvFFYrTu-",
        "outputId": "bcd6b62e-1f81-4463-cf98-4bb759567525",
        "colab": {
          "base_uri": "https://localhost:8080/"
        }
      },
      "execution_count": 10,
      "outputs": [
        {
          "output_type": "execute_result",
          "data": {
            "text/plain": [
              "['amin', 'wasim', 'nick', 'mike', 'imran', 'faras']"
            ]
          },
          "metadata": {},
          "execution_count": 10
        }
      ]
    },
    {
      "cell_type": "code",
      "source": [
        "# o Amin ------------------\n",
        "# |            |            |\n",
        "# o Wasim    o Nick       o Mike\n",
        "# |\n",
        "# o Imran\n",
        "# |\n",
        "# o Faras\n",
        "\n",
        "bfs(graph,'amin')"
      ],
      "metadata": {
        "colab": {
          "base_uri": "https://localhost:8080/"
        },
        "id": "3K4eJ06feV3c",
        "outputId": "d081c9cd-2085-4319-ef39-647a665ff29a"
      },
      "execution_count": 11,
      "outputs": [
        {
          "output_type": "execute_result",
          "data": {
            "text/plain": [
              "['amin', 'wasim', 'nick', 'mike', 'imran', 'faras']"
            ]
          },
          "metadata": {},
          "execution_count": 11
        }
      ]
    },
    {
      "cell_type": "code",
      "source": [
        "# o Amin ------------------\n",
        "# |            |            |\n",
        "# o Wasim    o Nick       o Mike\n",
        "# |\n",
        "# o Imran\n",
        "# |\n",
        "# o Faras\n",
        "\n",
        "bfs(graph,'wasim')"
      ],
      "metadata": {
        "colab": {
          "base_uri": "https://localhost:8080/"
        },
        "id": "_zDTTXYiemqr",
        "outputId": "6eb699b1-478b-4c19-ebd3-346a934dd987"
      },
      "execution_count": 12,
      "outputs": [
        {
          "output_type": "execute_result",
          "data": {
            "text/plain": [
              "['wasim', 'imran', 'amin', 'faras', 'nick', 'mike']"
            ]
          },
          "metadata": {},
          "execution_count": 12
        }
      ]
    },
    {
      "cell_type": "code",
      "source": [
        "# o Amin ------------------\n",
        "# |            |            |\n",
        "# o Wasim    o Nick       o Mike\n",
        "# |\n",
        "# o Imran\n",
        "# |\n",
        "# o Faras\n",
        "\n",
        "bfs(graph,'faras')"
      ],
      "metadata": {
        "colab": {
          "base_uri": "https://localhost:8080/"
        },
        "id": "_DdQmuX3eyft",
        "outputId": "b36d8614-5207-42b8-b668-d8d2d1bb03b1"
      },
      "execution_count": 13,
      "outputs": [
        {
          "output_type": "execute_result",
          "data": {
            "text/plain": [
              "['faras', 'imran', 'wasim', 'amin', 'nick', 'mike']"
            ]
          },
          "metadata": {},
          "execution_count": 13
        }
      ]
    },
    {
      "cell_type": "code",
      "source": [
        "graph = {'0' : ['9','7','11'],\n",
        "         '9' : ['8','10','0'],\n",
        "         '7' : ['6','3','0','11'],\n",
        "         '8' : ['1','12','9'],\n",
        "         '6' : ['5','7'],\n",
        "         '12' : ['2','8'],\n",
        "         '3' : ['2','4','7'],\n",
        "         '5' : ['6'],\n",
        "         '4' : ['3'],\n",
        "         '10' : ['9','1'],\n",
        "         '11' : ['0','7'],\n",
        "         '1' : ['10','8'],\n",
        "         '2' : ['12','3']\n",
        "         }"
      ],
      "metadata": {
        "id": "KU1Z5tsXhR7j"
      },
      "execution_count": 14,
      "outputs": []
    },
    {
      "cell_type": "code",
      "source": [
        "bfs(graph,'0')"
      ],
      "metadata": {
        "id": "Qz2lT8v1rnGH",
        "outputId": "69fa1b49-1390-4a2f-f0cd-72efc41bc2db",
        "colab": {
          "base_uri": "https://localhost:8080/"
        }
      },
      "execution_count": 15,
      "outputs": [
        {
          "output_type": "execute_result",
          "data": {
            "text/plain": [
              "['0', '9', '7', '11', '8', '10', '6', '3', '1', '12', '5', '2', '4']"
            ]
          },
          "metadata": {},
          "execution_count": 15
        }
      ]
    },
    {
      "cell_type": "code",
      "source": [
        "graph = {'rektor' : ['warek1','warek2'],\n",
        "         'warek1' : ['rektor', 'warek2'],\n",
        "         'warek2' : ['kaprodi1','kaprodi2', 'kaprodi3', 'rektor'],\n",
        "         'kaprodi1' : ['dosenA','dosenB', 'dosenC', 'warek2'],\n",
        "         'kaprodi2' : ['dosenD','dosenE','warek2'],\n",
        "         'kaprodi3' : ['dosenF','dosenG', 'warek2'],\n",
        "         'dosenG' : ['kaprodi3'],\n",
        "         'dosenF' : ['kaprodi3'],\n",
        "         'dosenD' : ['kaprodi2'],\n",
        "         'dosenE' : ['kaprodi2'],\n",
        "         'dosenC' : ['kaprodi1'],\n",
        "         'dosenB' : ['kaprodi1'],\n",
        "         'dosenA' : ['kaprodi1']\n",
        "        }"
      ],
      "metadata": {
        "id": "oYZxeH6NwYqY"
      },
      "execution_count": 19,
      "outputs": []
    },
    {
      "cell_type": "code",
      "source": [
        "bfs(graph,'rektor')"
      ],
      "metadata": {
        "id": "_MlAdB68zh2_",
        "outputId": "34189a74-fd75-435e-8f73-fe33744f91f4",
        "colab": {
          "base_uri": "https://localhost:8080/"
        }
      },
      "execution_count": 20,
      "outputs": [
        {
          "output_type": "execute_result",
          "data": {
            "text/plain": [
              "['rektor',\n",
              " 'warek1',\n",
              " 'warek2',\n",
              " 'kaprodi1',\n",
              " 'kaprodi2',\n",
              " 'kaprodi3',\n",
              " 'dosenA',\n",
              " 'dosenB',\n",
              " 'dosenC',\n",
              " 'dosenD',\n",
              " 'dosenE',\n",
              " 'dosenF',\n",
              " 'dosenG']"
            ]
          },
          "metadata": {},
          "execution_count": 20
        }
      ]
    },
    {
      "cell_type": "code",
      "source": [
        "# o Rektor ------------------------\n",
        "# |                               |\n",
        "# o Warek 1                       o Warek 2 --------------------------------\n",
        "#                                 |            |            |\n",
        "# o Imran                         o Kaprodi 1  o Kaprodi 2  o Kaprodi 3\n",
        "# |\n",
        "# o Faras\n",
        "\n",
        "bfs(graph,'faras')"
      ],
      "metadata": {
        "id": "tAt1v1UgtKQQ"
      },
      "execution_count": null,
      "outputs": []
    },
    {
      "cell_type": "code",
      "source": [
        "# DEPTH-FIRST SEARCH\n",
        "def dfs(visited, graph, node):\n",
        "  if node not in visited:\n",
        "    print(node)\n",
        "    visited.add(node)\n",
        "    for neighbour in graph[node]:\n",
        "      dfs(visited, graph, neighbour)"
      ],
      "metadata": {
        "id": "N_z7n64y2Kjp"
      },
      "execution_count": 13,
      "outputs": []
    },
    {
      "cell_type": "code",
      "source": [
        "graph = {'Amin' : ['Wasim', 'Nick', 'Mike'],\n",
        "         'Wasim' : ['Imran','Amin'],\n",
        "         'Imran' : ['Wasim', 'Faras'],\n",
        "         'Faras' : ['Imran'],\n",
        "         'Mike' : ['Amin'],\n",
        "         'Nick' : ['Amin']\n",
        "        }"
      ],
      "metadata": {
        "id": "m7eGkQIX2or4"
      },
      "execution_count": 14,
      "outputs": []
    },
    {
      "cell_type": "code",
      "source": [
        "# o Amin ------------------\n",
        "# |            |            |\n",
        "# o Wasim    o Nick       o Mike\n",
        "# |\n",
        "# o Imran\n",
        "# |\n",
        "# o Faras\n",
        "visited = set()\n",
        "dfs(visited, graph, 'Amin')"
      ],
      "metadata": {
        "id": "Ip_iUNJo3lKh",
        "outputId": "e1c6138e-e00a-457b-cbe3-13136cf0582d",
        "colab": {
          "base_uri": "https://localhost:8080/"
        }
      },
      "execution_count": 15,
      "outputs": [
        {
          "output_type": "stream",
          "name": "stdout",
          "text": [
            "Amin\n",
            "Wasim\n",
            "Imran\n",
            "Faras\n",
            "Nick\n",
            "Mike\n"
          ]
        }
      ]
    },
    {
      "cell_type": "code",
      "source": [
        "# o Amin ------------------\n",
        "# |            |            |\n",
        "# o Wasim    o Nick       o Mike\n",
        "# |\n",
        "# o Imran\n",
        "# |\n",
        "# o Faras\n",
        "visited = set()\n",
        "dfs(visited, graph, 'Wasim')"
      ],
      "metadata": {
        "id": "RqgaFDEe34jV",
        "outputId": "f3d9d621-d94f-4559-fd51-27fa65d4b5ef",
        "colab": {
          "base_uri": "https://localhost:8080/"
        }
      },
      "execution_count": 16,
      "outputs": [
        {
          "output_type": "stream",
          "name": "stdout",
          "text": [
            "Wasim\n",
            "Imran\n",
            "Faras\n",
            "Amin\n",
            "Nick\n",
            "Mike\n"
          ]
        }
      ]
    },
    {
      "cell_type": "code",
      "source": [
        "# o Amin ------------------\n",
        "# |            |            |\n",
        "# o Wasim    o Nick       o Mike\n",
        "# |\n",
        "# o Imran\n",
        "# |\n",
        "# o Faras\n",
        "visited = set()\n",
        "dfs(visited, graph, 'Faras')"
      ],
      "metadata": {
        "id": "g-Up7L-_3-PY",
        "outputId": "86432d14-e330-4fd4-d7c9-fefb38c610b0",
        "colab": {
          "base_uri": "https://localhost:8080/"
        }
      },
      "execution_count": 17,
      "outputs": [
        {
          "output_type": "stream",
          "name": "stdout",
          "text": [
            "Faras\n",
            "Imran\n",
            "Wasim\n",
            "Amin\n",
            "Nick\n",
            "Mike\n"
          ]
        }
      ]
    },
    {
      "cell_type": "code",
      "source": [
        "# o Amin ------------------\n",
        "# |            |            |\n",
        "# o Wasim    o Nick       o Mike\n",
        "# |\n",
        "# o Imran\n",
        "# |\n",
        "# o Faras\n",
        "visited = set()\n",
        "dfs(visited, graph, 'Nick')"
      ],
      "metadata": {
        "id": "1YF5F1WP4Cet",
        "outputId": "7ddc90bb-a698-4c34-b8b4-995bfee1221c",
        "colab": {
          "base_uri": "https://localhost:8080/"
        }
      },
      "execution_count": 18,
      "outputs": [
        {
          "output_type": "stream",
          "name": "stdout",
          "text": [
            "Nick\n",
            "Amin\n",
            "Wasim\n",
            "Imran\n",
            "Faras\n",
            "Mike\n"
          ]
        }
      ]
    },
    {
      "cell_type": "code",
      "source": [
        "# Latihan 2\n",
        "graph = {'rektor' : ['warek1','warek2'],\n",
        "         'warek1' : ['rektor', 'warek2'],\n",
        "         'warek2' : ['kaprodi1','dosenA', 'dosenB', 'dosenC','kaprodi2', 'kaprodi3'],\n",
        "         'kaprodi1' : ['dosenA','dosenB', 'dosenC'],\n",
        "         'kaprodi2' : ['dosenD','dosenE'],\n",
        "         'kaprodi3' : ['dosenF','dosenG'],\n",
        "         'dosenG' : ['kaprodi3'],\n",
        "         'dosenF' : ['kaprodi3'],\n",
        "         'dosenD' : ['kaprodi2'],\n",
        "         'dosenE' : ['kaprodi2'],\n",
        "         'dosenC' : ['kaprodi1'],\n",
        "         'dosenB' : ['kaprodi1'],\n",
        "         'dosenA' : ['kaprodi1']\n",
        "        }"
      ],
      "metadata": {
        "id": "fL8KrIUf4Occ"
      },
      "execution_count": 23,
      "outputs": []
    },
    {
      "cell_type": "code",
      "source": [
        "visited = set()\n",
        "dfs(visited, graph, 'rektor')"
      ],
      "metadata": {
        "id": "-Ap-k9zU55h7",
        "outputId": "9158823b-1107-424c-e050-51673a928878",
        "colab": {
          "base_uri": "https://localhost:8080/"
        }
      },
      "execution_count": 20,
      "outputs": [
        {
          "output_type": "stream",
          "name": "stdout",
          "text": [
            "rektor\n",
            "warek1\n",
            "warek2\n",
            "kaprodi1\n",
            "dosenA\n",
            "dosenB\n",
            "dosenC\n",
            "kaprodi2\n",
            "dosenD\n",
            "dosenE\n",
            "kaprodi3\n",
            "dosenF\n",
            "dosenG\n"
          ]
        }
      ]
    },
    {
      "cell_type": "code",
      "source": [
        "graph = {'0' : ['9','7','11'],\n",
        "         '9' : ['8','10','0'],\n",
        "         '7' : ['6','3','0','11'],\n",
        "         '8' : ['1','12','9'],\n",
        "         '6' : ['5','7'],\n",
        "         '12' : ['2','8'],\n",
        "         '3' : ['2','4','7'],\n",
        "         '5' : ['6'],\n",
        "         '4' : ['3'],\n",
        "         '10' : ['9','1'],\n",
        "         '11' : ['0','7'],\n",
        "         '1' : ['10','8'],\n",
        "         '2' : ['12','3']\n",
        "         }"
      ],
      "metadata": {
        "id": "uXGAKBl-91o8"
      },
      "execution_count": 21,
      "outputs": []
    },
    {
      "cell_type": "code",
      "source": [
        "visited = set()\n",
        "dfs(visited, graph, '0')"
      ],
      "metadata": {
        "id": "NtiTHeh3-DVC",
        "outputId": "1b977502-acdb-4628-ed19-719436b58599",
        "colab": {
          "base_uri": "https://localhost:8080/"
        }
      },
      "execution_count": 22,
      "outputs": [
        {
          "output_type": "stream",
          "name": "stdout",
          "text": [
            "0\n",
            "9\n",
            "8\n",
            "1\n",
            "10\n",
            "12\n",
            "2\n",
            "3\n",
            "4\n",
            "7\n",
            "6\n",
            "5\n",
            "11\n"
          ]
        }
      ]
    },
    {
      "cell_type": "markdown",
      "source": [
        "Menurut saya algoritma BFS yaitu algoritma yang mendahulukan terlebih dahulu code di sebelahnya, sehingga menghasilkan tampilan output yang menyamping terlebih dahulu, lalu menuju ke bawah. Sedangkan algoritma DFS mendahulukan terlebih dahulu yang terdekatnya lalu menuju ke bawah dari yang terdekatnya, sehingga menghasilkan tampilan output menuju bawah setelah itu balik lagi ke code selanjutnya."
      ],
      "metadata": {
        "id": "AcebQih--SBi"
      }
    }
  ]
}